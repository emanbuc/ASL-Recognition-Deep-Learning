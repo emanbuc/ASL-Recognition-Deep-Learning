{
  "cells": [
    {
      "cell_type": "markdown",
      "source": [
        "# Train Custom Model - HyperDrive"
      ],
      "metadata": {}
    },
    {
      "cell_type": "code",
      "source": [
        "!pip install azureml-sdk[notebooks]\n",
        "!pip install torch\n",
        "!pip install torchvision\n",
        "!pip install tensorflow\n",
        "!pip install keras\n",
        "!pip install keras.models "
      ],
      "outputs": [],
      "execution_count": null,
      "metadata": {
        "tags": [
          "outputPrepend"
        ]
      }
    },
    {
      "cell_type": "code",
      "source": [
        "# Imports\n",
        "import torch\n",
        "import torchvision\n",
        "import string\n",
        "import matplotlib.pyplot as plt\n",
        "import pandas as pd\n",
        "import numpy as np\n",
        "from sklearn.model_selection import train_test_split\n",
        "import tensorflow as tf"
      ],
      "outputs": [],
      "execution_count": 9,
      "metadata": {
        "gather": {
          "logged": 1611451066381
        }
      }
    },
    {
      "cell_type": "code",
      "source": [
        "# Azure ML Imports\n",
        "from azureml.core.compute import ComputeTarget, AmlCompute\n",
        "from azureml.core.compute_target import ComputeTargetException\n",
        "from azureml.core import Workspace, Experiment\n",
        "from azureml.data.dataset_factory import TabularDatasetFactory\n",
        "from azureml.widgets import RunDetails"
      ],
      "outputs": [],
      "execution_count": 10,
      "metadata": {
        "gather": {
          "logged": 1611451067550
        }
      }
    },
    {
      "cell_type": "markdown",
      "source": [
        "## Workspace"
      ],
      "metadata": {}
    },
    {
      "cell_type": "code",
      "source": [
        "ws = Workspace.from_config()\n",
        "experiment_name = 'ASL-DeepLearning-hyperameter'\n",
        "\n",
        "exp_with_hyper = Experiment(workspace=ws, name='Sign-Language-HyperDrive')\n",
        "exp_no_hyper = Experiment(workspace=ws, name='Sign-Language-NoHyperDrive')\n",
        "\n",
        "\n",
        "print('Workspace name: ' + ws.name, \n",
        "      'Azure region: ' + ws.location, \n",
        "      'Subscription id: ' + ws.subscription_id, \n",
        "      'Resource group: ' + ws.resource_group, sep = '\\n')\n"
      ],
      "outputs": [
        {
          "output_type": "stream",
          "name": "stdout",
          "text": [
            "Workspace name: quick-starts-ws-135837\n",
            "Azure region: southcentralus\n",
            "Subscription id: 61c5c3f0-6dc7-4ed9-a7f3-c704b20e3b30\n",
            "Resource group: aml-quickstarts-135837\n"
          ]
        }
      ],
      "execution_count": 11,
      "metadata": {
        "gather": {
          "logged": 1611451079386
        },
        "jupyter": {
          "outputs_hidden": false,
          "source_hidden": false
        },
        "nteract": {
          "transient": {
            "deleting": false
          }
        }
      }
    },
    {
      "cell_type": "markdown",
      "source": [
        "## Compute"
      ],
      "metadata": {}
    },
    {
      "cell_type": "code",
      "source": [
        "# Choose a name for your CPU cluster\n",
        "cluster_name = \"gpu-cluster\"\n",
        "\n",
        "# Verify that cluster does not exist already\n",
        "try:\n",
        "    cpu_cluster = ComputeTarget(workspace=ws, name=cluster_name)\n",
        "    print('Found existing cluster, use it.')\n",
        "except ComputeTargetException:\n",
        "    compute_config = AmlCompute.provisioning_configuration(vm_size='STANDARD_NC24',\n",
        "                                                           max_nodes=10)\n",
        "    cpu_cluster = ComputeTarget.create(ws, cluster_name, compute_config)\n",
        "\n",
        "cpu_cluster.wait_for_completion(show_output=True)"
      ],
      "outputs": [],
      "execution_count": null,
      "metadata": {
        "gather": {
          "logged": 1611447434540
        }
      }
    },
    {
      "cell_type": "markdown",
      "source": [
        "## Dataset\n",
        "\n",
        "TODO: Get data. In the cell below, write code to access the data you will be using in this project. Remember that the dataset needs to be external."
      ],
      "metadata": {}
    },
    {
      "cell_type": "code",
      "source": [
        "from azureml.data.dataset_factory import TabularDatasetFactory\n",
        "\n",
        "# Create TabularDataset using TabularDatasetFactory\n",
        "# Data is available at: \n",
        "# \"https://www.kaggle.com/datamunge/sign-language-mnist\"\n",
        "\n",
        "found = False\n",
        "key = \"sign-language-mnist\"\n",
        "description_text = \"sign Language MNIST\"\n",
        "\n",
        "if key in ws.datasets.keys(): \n",
        "    found = True\n",
        "    ds = ws.datasets[key] \n",
        "\n",
        "if not found:\n",
        "    from azureml.data.dataset_factory import TabularDatasetFactory\n",
        "    datastore_path = \"https://github.com/emanbuc/ASL-Recognition-Deep-Learning/raw/main/datasets/sign-language-mnist/sign_mnist_train/sign_mnist_train.csv\"\n",
        "    ds = TabularDatasetFactory.from_delimited_files(path=datastore_path,header=True)       \n",
        "    #Register Dataset in Workspace\n",
        "    ds = ds.register(workspace=ws,name=key,description=description_text)\n",
        "\n",
        "df = ds.to_pandas_dataframe()\n",
        "df.describe()"
      ],
      "outputs": [
        {
          "output_type": "execute_result",
          "execution_count": 12,
          "data": {
            "text/plain": "              label        pixel1        pixel2        pixel3        pixel4  \\\ncount  27455.000000  27455.000000  27455.000000  27455.000000  27455.000000   \nmean      12.318813    145.419377    148.500273    151.247714    153.546531   \nstd        7.287552     41.358555     39.942152     39.056286     38.595247   \nmin        0.000000      0.000000      0.000000      0.000000      0.000000   \n25%        6.000000    121.000000    126.000000    130.000000    133.000000   \n50%       13.000000    150.000000    153.000000    156.000000    158.000000   \n75%       19.000000    174.000000    176.000000    178.000000    179.000000   \nmax       24.000000    255.000000    255.000000    255.000000    255.000000   \n\n             pixel5        pixel6        pixel7        pixel8        pixel9  \\\ncount  27455.000000  27455.000000  27455.000000  27455.000000  27455.000000   \nmean     156.210891    158.411255    160.472154    162.339683    163.954799   \nstd       37.111165     36.125579     35.016392     33.661998     32.651607   \nmin        0.000000      0.000000      0.000000      0.000000      0.000000   \n25%      137.000000    140.000000    142.000000    144.000000    146.000000   \n50%      160.000000    162.000000    164.000000    165.000000    166.000000   \n75%      181.000000    182.000000    183.000000    184.000000    185.000000   \nmax      255.000000    255.000000    255.000000    255.000000    255.000000   \n\n       ...      pixel775      pixel776      pixel777      pixel778  \\\ncount  ...  27455.000000  27455.000000  27455.000000  27455.000000   \nmean   ...    141.104863    147.495611    153.325806    159.125332   \nstd    ...     63.751194     65.512894     64.427412     63.708507   \nmin    ...      0.000000      0.000000      0.000000      0.000000   \n25%    ...     92.000000     96.000000    103.000000    112.000000   \n50%    ...    144.000000    162.000000    172.000000    180.000000   \n75%    ...    196.000000    202.000000    205.000000    207.000000   \nmax    ...    255.000000    255.000000    255.000000    255.000000   \n\n           pixel779      pixel780      pixel781      pixel782      pixel783  \\\ncount  27455.000000  27455.000000  27455.000000  27455.000000  27455.000000   \nmean     161.969259    162.736696    162.906137    161.966454    161.137898   \nstd       63.738316     63.444008     63.509210     63.298721     63.610415   \nmin        0.000000      0.000000      0.000000      0.000000      0.000000   \n25%      120.000000    125.000000    128.000000    128.000000    128.000000   \n50%      183.000000    184.000000    184.000000    182.000000    182.000000   \n75%      208.000000    207.000000    207.000000    206.000000    204.000000   \nmax      255.000000    255.000000    255.000000    255.000000    255.000000   \n\n           pixel784  \ncount  27455.000000  \nmean     159.824731  \nstd       64.396846  \nmin        0.000000  \n25%      125.500000  \n50%      182.000000  \n75%      204.000000  \nmax      255.000000  \n\n[8 rows x 785 columns]",
            "text/html": "<div>\n<style scoped>\n    .dataframe tbody tr th:only-of-type {\n        vertical-align: middle;\n    }\n\n    .dataframe tbody tr th {\n        vertical-align: top;\n    }\n\n    .dataframe thead th {\n        text-align: right;\n    }\n</style>\n<table border=\"1\" class=\"dataframe\">\n  <thead>\n    <tr style=\"text-align: right;\">\n      <th></th>\n      <th>label</th>\n      <th>pixel1</th>\n      <th>pixel2</th>\n      <th>pixel3</th>\n      <th>pixel4</th>\n      <th>pixel5</th>\n      <th>pixel6</th>\n      <th>pixel7</th>\n      <th>pixel8</th>\n      <th>pixel9</th>\n      <th>...</th>\n      <th>pixel775</th>\n      <th>pixel776</th>\n      <th>pixel777</th>\n      <th>pixel778</th>\n      <th>pixel779</th>\n      <th>pixel780</th>\n      <th>pixel781</th>\n      <th>pixel782</th>\n      <th>pixel783</th>\n      <th>pixel784</th>\n    </tr>\n  </thead>\n  <tbody>\n    <tr>\n      <th>count</th>\n      <td>27455.000000</td>\n      <td>27455.000000</td>\n      <td>27455.000000</td>\n      <td>27455.000000</td>\n      <td>27455.000000</td>\n      <td>27455.000000</td>\n      <td>27455.000000</td>\n      <td>27455.000000</td>\n      <td>27455.000000</td>\n      <td>27455.000000</td>\n      <td>...</td>\n      <td>27455.000000</td>\n      <td>27455.000000</td>\n      <td>27455.000000</td>\n      <td>27455.000000</td>\n      <td>27455.000000</td>\n      <td>27455.000000</td>\n      <td>27455.000000</td>\n      <td>27455.000000</td>\n      <td>27455.000000</td>\n      <td>27455.000000</td>\n    </tr>\n    <tr>\n      <th>mean</th>\n      <td>12.318813</td>\n      <td>145.419377</td>\n      <td>148.500273</td>\n      <td>151.247714</td>\n      <td>153.546531</td>\n      <td>156.210891</td>\n      <td>158.411255</td>\n      <td>160.472154</td>\n      <td>162.339683</td>\n      <td>163.954799</td>\n      <td>...</td>\n      <td>141.104863</td>\n      <td>147.495611</td>\n      <td>153.325806</td>\n      <td>159.125332</td>\n      <td>161.969259</td>\n      <td>162.736696</td>\n      <td>162.906137</td>\n      <td>161.966454</td>\n      <td>161.137898</td>\n      <td>159.824731</td>\n    </tr>\n    <tr>\n      <th>std</th>\n      <td>7.287552</td>\n      <td>41.358555</td>\n      <td>39.942152</td>\n      <td>39.056286</td>\n      <td>38.595247</td>\n      <td>37.111165</td>\n      <td>36.125579</td>\n      <td>35.016392</td>\n      <td>33.661998</td>\n      <td>32.651607</td>\n      <td>...</td>\n      <td>63.751194</td>\n      <td>65.512894</td>\n      <td>64.427412</td>\n      <td>63.708507</td>\n      <td>63.738316</td>\n      <td>63.444008</td>\n      <td>63.509210</td>\n      <td>63.298721</td>\n      <td>63.610415</td>\n      <td>64.396846</td>\n    </tr>\n    <tr>\n      <th>min</th>\n      <td>0.000000</td>\n      <td>0.000000</td>\n      <td>0.000000</td>\n      <td>0.000000</td>\n      <td>0.000000</td>\n      <td>0.000000</td>\n      <td>0.000000</td>\n      <td>0.000000</td>\n      <td>0.000000</td>\n      <td>0.000000</td>\n      <td>...</td>\n      <td>0.000000</td>\n      <td>0.000000</td>\n      <td>0.000000</td>\n      <td>0.000000</td>\n      <td>0.000000</td>\n      <td>0.000000</td>\n      <td>0.000000</td>\n      <td>0.000000</td>\n      <td>0.000000</td>\n      <td>0.000000</td>\n    </tr>\n    <tr>\n      <th>25%</th>\n      <td>6.000000</td>\n      <td>121.000000</td>\n      <td>126.000000</td>\n      <td>130.000000</td>\n      <td>133.000000</td>\n      <td>137.000000</td>\n      <td>140.000000</td>\n      <td>142.000000</td>\n      <td>144.000000</td>\n      <td>146.000000</td>\n      <td>...</td>\n      <td>92.000000</td>\n      <td>96.000000</td>\n      <td>103.000000</td>\n      <td>112.000000</td>\n      <td>120.000000</td>\n      <td>125.000000</td>\n      <td>128.000000</td>\n      <td>128.000000</td>\n      <td>128.000000</td>\n      <td>125.500000</td>\n    </tr>\n    <tr>\n      <th>50%</th>\n      <td>13.000000</td>\n      <td>150.000000</td>\n      <td>153.000000</td>\n      <td>156.000000</td>\n      <td>158.000000</td>\n      <td>160.000000</td>\n      <td>162.000000</td>\n      <td>164.000000</td>\n      <td>165.000000</td>\n      <td>166.000000</td>\n      <td>...</td>\n      <td>144.000000</td>\n      <td>162.000000</td>\n      <td>172.000000</td>\n      <td>180.000000</td>\n      <td>183.000000</td>\n      <td>184.000000</td>\n      <td>184.000000</td>\n      <td>182.000000</td>\n      <td>182.000000</td>\n      <td>182.000000</td>\n    </tr>\n    <tr>\n      <th>75%</th>\n      <td>19.000000</td>\n      <td>174.000000</td>\n      <td>176.000000</td>\n      <td>178.000000</td>\n      <td>179.000000</td>\n      <td>181.000000</td>\n      <td>182.000000</td>\n      <td>183.000000</td>\n      <td>184.000000</td>\n      <td>185.000000</td>\n      <td>...</td>\n      <td>196.000000</td>\n      <td>202.000000</td>\n      <td>205.000000</td>\n      <td>207.000000</td>\n      <td>208.000000</td>\n      <td>207.000000</td>\n      <td>207.000000</td>\n      <td>206.000000</td>\n      <td>204.000000</td>\n      <td>204.000000</td>\n    </tr>\n    <tr>\n      <th>max</th>\n      <td>24.000000</td>\n      <td>255.000000</td>\n      <td>255.000000</td>\n      <td>255.000000</td>\n      <td>255.000000</td>\n      <td>255.000000</td>\n      <td>255.000000</td>\n      <td>255.000000</td>\n      <td>255.000000</td>\n      <td>255.000000</td>\n      <td>...</td>\n      <td>255.000000</td>\n      <td>255.000000</td>\n      <td>255.000000</td>\n      <td>255.000000</td>\n      <td>255.000000</td>\n      <td>255.000000</td>\n      <td>255.000000</td>\n      <td>255.000000</td>\n      <td>255.000000</td>\n      <td>255.000000</td>\n    </tr>\n  </tbody>\n</table>\n<p>8 rows × 785 columns</p>\n</div>"
          },
          "metadata": {}
        }
      ],
      "execution_count": 12,
      "metadata": {
        "gather": {
          "logged": 1611451094783
        }
      }
    },
    {
      "cell_type": "code",
      "source": [
        "# To map each label number to its corresponding letter\n",
        "letters = dict(enumerate(string.ascii_uppercase))\n",
        "letters"
      ],
      "outputs": [],
      "execution_count": null,
      "metadata": {
        "gather": {
          "logged": 1611447448174
        }
      }
    },
    {
      "cell_type": "markdown",
      "source": [
        "## Data Preparation"
      ],
      "metadata": {}
    },
    {
      "cell_type": "code",
      "source": [
        "targets = pd.get_dummies(df.pop('label')).values\n",
        "data = df.values\n",
        "targets.shape"
      ],
      "outputs": [
        {
          "output_type": "execute_result",
          "execution_count": 13,
          "data": {
            "text/plain": "(27455, 24)"
          },
          "metadata": {}
        }
      ],
      "execution_count": 13,
      "metadata": {
        "gather": {
          "logged": 1611451095059
        }
      }
    },
    {
      "cell_type": "code",
      "source": [
        "data.shape"
      ],
      "outputs": [
        {
          "output_type": "execute_result",
          "execution_count": 14,
          "data": {
            "text/plain": "(27455, 784)"
          },
          "metadata": {}
        }
      ],
      "execution_count": 14,
      "metadata": {
        "gather": {
          "logged": 1611451096690
        }
      }
    },
    {
      "cell_type": "code",
      "source": [
        "from sklearn.preprocessing import minmax_scale\n",
        "data = minmax_scale(data)"
      ],
      "outputs": [],
      "execution_count": 15,
      "metadata": {
        "gather": {
          "logged": 1611451098399
        }
      }
    },
    {
      "cell_type": "code",
      "source": [
        "input_shape = (28,28, 1) # 28*28 = 784"
      ],
      "outputs": [],
      "execution_count": 16,
      "metadata": {
        "gather": {
          "logged": 1611451100520
        }
      }
    },
    {
      "cell_type": "code",
      "source": [
        "data = np.reshape(data,(-1, 28, 28,1))\n",
        "data.shape"
      ],
      "outputs": [
        {
          "output_type": "execute_result",
          "execution_count": 17,
          "data": {
            "text/plain": "(27455, 28, 28, 1)"
          },
          "metadata": {}
        }
      ],
      "execution_count": 17,
      "metadata": {
        "gather": {
          "logged": 1611451101661
        }
      }
    },
    {
      "cell_type": "code",
      "source": [
        "targets.shape"
      ],
      "outputs": [
        {
          "output_type": "execute_result",
          "execution_count": 18,
          "data": {
            "text/plain": "(27455, 24)"
          },
          "metadata": {}
        }
      ],
      "execution_count": 18,
      "metadata": {
        "gather": {
          "logged": 1611451103515
        }
      }
    },
    {
      "cell_type": "markdown",
      "source": [
        "## SPLITTING THE DATA Training set and Validation Set"
      ],
      "metadata": {}
    },
    {
      "cell_type": "code",
      "source": [
        "X_train, X_val, y_train, y_val = train_test_split(data, targets , test_size = 0.2, random_state=0)"
      ],
      "outputs": [],
      "execution_count": 19,
      "metadata": {
        "gather": {
          "logged": 1611451107229
        }
      }
    },
    {
      "cell_type": "markdown",
      "source": [
        "### Save data to file for remote cluster\n",
        "\n",
        "Salva i dati prepatati su file con pickle e esegue upload verso datastore del workspace in cloud."
      ],
      "metadata": {}
    },
    {
      "cell_type": "code",
      "source": [
        "import pickle\n",
        "import os\n",
        "if os.path.isfile('dataset/sign-language-mnist.pkl'):\n",
        "    print('File is present')\n",
        "else:\n",
        "    os.makedirs('dataset')\n",
        "    with open('dataset/sign-language-mnist.pkl','wb') as f:\n",
        "        pickle.dump((X_train,X_val,y_train,y_val),f)\n",
        "    \n",
        "    datastore=ws.get_default_datastore()\n",
        "    datastore.upload('./dataset', target_path='sign-language-mnist-data')\n",
        "\n",
        "print('Done')"
      ],
      "outputs": [],
      "execution_count": null,
      "metadata": {
        "gather": {
          "logged": 1611447455483
        }
      }
    },
    {
      "cell_type": "markdown",
      "source": [
        "## Remote Trainig Experiment (No Hyperdrive)\n",
        "\n",
        "Create an estimator object to run training experiment in remote compute cluster"
      ],
      "metadata": {}
    },
    {
      "cell_type": "code",
      "source": [
        "from azureml.train.estimator import Estimator\n",
        "script_params = {\n",
        "    '--data_folder': ws.get_default_datastore(),\n",
        "    '--hidden': 100\n",
        "}\n",
        "\n",
        "est = Estimator(source_directory='.',\n",
        "                script_params=script_params,\n",
        "                compute_target=cpu_cluster,\n",
        "                entry_script='train_keras.py',\n",
        "                pip_packages=['keras','tensorflow'])"
      ],
      "outputs": [],
      "execution_count": null,
      "metadata": {
        "gather": {
          "logged": 1611447460117
        }
      }
    },
    {
      "cell_type": "code",
      "source": [
        "\n",
        "run = exp_no_hyper.submit(est)"
      ],
      "outputs": [],
      "execution_count": null,
      "metadata": {
        "gather": {
          "logged": 1611447472521
        }
      }
    },
    {
      "cell_type": "markdown",
      "source": [
        "## Remote Training with HyperDrive"
      ],
      "metadata": {}
    },
    {
      "cell_type": "markdown",
      "source": [
        "### Hyperdrive Configuration\n",
        "\n",
        "TODO: Explain the model you are using and the reason for chosing the different hyperparameters, termination policy and config settings."
      ],
      "metadata": {}
    },
    {
      "cell_type": "code",
      "source": [
        "from azureml.train.hyperdrive.policy import BanditPolicy,MedianStoppingPolicy\n",
        "from azureml.train.hyperdrive.run import PrimaryMetricGoal\n",
        "from azureml.train.hyperdrive.sampling import RandomParameterSampling\n",
        "from azureml.train.hyperdrive.runconfig import HyperDriveConfig\n",
        "from azureml.train.hyperdrive.parameter_expressions import uniform, normal,choice"
      ],
      "outputs": [],
      "execution_count": null,
      "metadata": {
        "collapsed": true,
        "jupyter": {
          "source_hidden": false,
          "outputs_hidden": false
        },
        "nteract": {
          "transient": {
            "deleting": false
          }
        },
        "gather": {
          "logged": 1611447472604
        }
      }
    },
    {
      "cell_type": "code",
      "source": [
        "#TODO: Create the different params that you will be using during training\n",
        "param_sampling = RandomParameterSampling({\n",
        "         '--hidden': choice([50,100,200,300]),\n",
        "         '--batch_size': choice([64,128]), \n",
        "         '--epochs': choice([3,5,10]),\n",
        "         '--dropout': choice([0.5,0.8,1])})"
      ],
      "outputs": [],
      "execution_count": null,
      "metadata": {
        "gather": {
          "logged": 1611447472674
        }
      }
    },
    {
      "cell_type": "code",
      "source": [
        "# TODO: Create an early termination policy. This is not required if you are using Bayesian sampling.\n",
        "\n",
        "early_termination_policy = MedianStoppingPolicy()\n",
        "hd_config = HyperDriveConfig(estimator=est,\n",
        "  hyperparameter_sampling=param_sampling,\n",
        "  policy=early_termination_policy,\n",
        "  primary_metric_name='Accuracy',\n",
        "  primary_metric_goal=PrimaryMetricGoal.MAXIMIZE,\n",
        "  max_total_runs=16,\n",
        "  max_concurrent_runs=10)"
      ],
      "outputs": [],
      "execution_count": null,
      "metadata": {
        "gather": {
          "logged": 1611447472740
        }
      }
    },
    {
      "cell_type": "markdown",
      "source": [
        "param_sampling = RandomParameterSampling({\n",
        "         '--hidden': choice([50,100,200,300]),\n",
        "         '--batch_size': choice([64,128]), \n",
        "         '--epochs': choice([5,10,50]),\n",
        "         '--dropout': choice([0.5,0.8,1])})"
      ],
      "metadata": {}
    },
    {
      "cell_type": "code",
      "source": [
        "hyperdrive_run = exp_with_hyper.submit(hd_config)"
      ],
      "outputs": [],
      "execution_count": null,
      "metadata": {
        "gather": {
          "logged": 1611447477640
        }
      }
    },
    {
      "cell_type": "markdown",
      "source": [
        "## Run Details\n",
        "\n",
        "OPTIONAL: Write about the different models trained and their performance. Why do you think some models did better than others?\n",
        "\n",
        "TODO: In the cell below, use the `RunDetails` widget to show the different experiments."
      ],
      "metadata": {
        "collapsed": true,
        "gather": {
          "logged": 1598544898497
        },
        "jupyter": {
          "outputs_hidden": false,
          "source_hidden": false
        },
        "nteract": {
          "transient": {
            "deleting": false
          }
        }
      }
    },
    {
      "cell_type": "code",
      "source": [
        "RunDetails(hyperdrive_run).show()\n",
        "hyperdrive_run.wait_for_completion(show_output=True)"
      ],
      "outputs": [],
      "execution_count": null,
      "metadata": {
        "gather": {
          "logged": 1611448388050
        },
        "jupyter": {
          "outputs_hidden": false,
          "source_hidden": false
        },
        "nteract": {
          "transient": {
            "deleting": false
          }
        }
      }
    },
    {
      "cell_type": "markdown",
      "source": [
        "## Best Model\n",
        "\n",
        "TODO: In the cell below, get the best model from the hyperdrive experiments and display all the properties of the model."
      ],
      "metadata": {}
    },
    {
      "cell_type": "code",
      "source": [
        "assert(hyperdrive_run.get_status() == \"Completed\")\n",
        "best_run = hyperdrive_run.get_best_run_by_primary_metric()\n",
        "print(best_run)"
      ],
      "outputs": [],
      "execution_count": null,
      "metadata": {
        "gather": {
          "logged": 1611448389331
        }
      }
    },
    {
      "cell_type": "code",
      "execution_count": null,
      "metadata": {},
      "outputs": [],
      "source": [
        "print('========================')\n",
        "print(best_run.get_details()['runDefinition']['arguments'])\n",
        "print(best_run.get_file_names())\n",
        "best_run_metrics = best_run.get_metrics()\n",
        "print('Best accuracy: {}'.format(best_run_metrics['Accuracy']))\n",
        "print('========================')"
      ]
    },
    {
      "cell_type": "code",
      "source": [
        "model = best_run.register_model(model_name='mnist_model.hdf5',model_path='./outputs/mnist_model.hdf5')"
      ],
      "outputs": [],
      "execution_count": null,
      "metadata": {
        "collapsed": true,
        "jupyter": {
          "source_hidden": false,
          "outputs_hidden": false
        },
        "nteract": {
          "transient": {
            "deleting": false
          }
        },
        "gather": {
          "logged": 1611448389974
        }
      }
    },
    {
      "cell_type": "code",
      "source": [
        "model.download()"
      ],
      "outputs": [],
      "execution_count": null,
      "metadata": {
        "collapsed": true,
        "jupyter": {
          "source_hidden": false,
          "outputs_hidden": false
        },
        "nteract": {
          "transient": {
            "deleting": false
          }
        },
        "gather": {
          "logged": 1611449428975
        }
      }
    },
    {
      "cell_type": "markdown",
      "source": [
        "## Best Model Evaluation"
      ],
      "metadata": {
        "nteract": {
          "transient": {
            "deleting": false
          }
        }
      }
    },
    {
      "cell_type": "code",
      "source": [
        "# load and evaluate a saved model\n",
        "from tensorflow.keras.models import load_model\n",
        "\n",
        "# load model\n",
        "model = load_model('./mnist_model.hdf5')\n",
        "# summarize model.\n",
        "model.summary()"
      ],
      "outputs": [
        {
          "output_type": "stream",
          "name": "stdout",
          "text": [
            "Model: \"sequential\"\n",
            "_________________________________________________________________\n",
            "Layer (type)                 Output Shape              Param #   \n",
            "=================================================================\n",
            "conv2d (Conv2D)              (None, 26, 26, 28)        280       \n",
            "_________________________________________________________________\n",
            "max_pooling2d (MaxPooling2D) (None, 13, 13, 28)        0         \n",
            "_________________________________________________________________\n",
            "flatten (Flatten)            (None, 4732)              0         \n",
            "_________________________________________________________________\n",
            "dense (Dense)                (None, 100)               473300    \n",
            "_________________________________________________________________\n",
            "dropout (Dropout)            (None, 100)               0         \n",
            "_________________________________________________________________\n",
            "dense_1 (Dense)              (None, 24)                2424      \n",
            "=================================================================\n",
            "Total params: 476,004\n",
            "Trainable params: 476,004\n",
            "Non-trainable params: 0\n",
            "_________________________________________________________________\n"
          ]
        }
      ],
      "execution_count": 6,
      "metadata": {
        "collapsed": true,
        "jupyter": {
          "source_hidden": false,
          "outputs_hidden": false
        },
        "nteract": {
          "transient": {
            "deleting": false
          }
        },
        "gather": {
          "logged": 1611450890237
        }
      }
    },
    {
      "cell_type": "code",
      "source": [
        "score = model.evaluate(X_val, y_val, verbose=0)\n",
        "print(\"%s: %.2f%%\" % (model.metrics_names[1], score[1]*100))"
      ],
      "outputs": [
        {
          "output_type": "stream",
          "name": "stdout",
          "text": [
            "accuracy: 99.98%\n"
          ]
        }
      ],
      "execution_count": 21,
      "metadata": {
        "collapsed": true,
        "jupyter": {
          "source_hidden": false,
          "outputs_hidden": false
        },
        "nteract": {
          "transient": {
            "deleting": false
          }
        },
        "gather": {
          "logged": 1611451140037
        }
      }
    },
    {
      "cell_type": "code",
      "source": [
        "y_pred = model.predict(X_val)\n",
        "y_pred = np.argmax(y_pred, axis =1)\n",
        "y_val = np.argmax(y_val, axis =1)"
      ],
      "outputs": [],
      "execution_count": 25,
      "metadata": {
        "collapsed": true,
        "jupyter": {
          "source_hidden": false,
          "outputs_hidden": false
        },
        "nteract": {
          "transient": {
            "deleting": false
          }
        },
        "gather": {
          "logged": 1611451366017
        }
      }
    },
    {
      "cell_type": "code",
      "source": [
        "from sklearn.metrics import confusion_matrix, plot_confusion_matrix\n",
        "from sklearn.metrics import accuracy_score\n",
        "from sklearn.metrics import precision_recall_fscore_support\n",
        "import matplotlib.pyplot as plt\n",
        "\n",
        "cm = confusion_matrix(y_val, y_pred)\n",
        "fig = plt.figure()\n",
        "ax = fig.add_subplot(111)\n",
        "cax = ax.matshow(cm)\n",
        "plt.title('Confusion matrix of the classifier')\n",
        "fig.colorbar(cax)\n",
        "\n",
        "plt.xlabel('Predicted')\n",
        "plt.ylabel('True')\n",
        "plt.show()\n",
        "print(\"Accuracy :\" + str(round(accuracy_score(y_val, y_pred),4)))\n",
        "p, r, f, s = precision_recall_fscore_support(y_val, y_pred, average='macro')\n",
        "print(\"Precision | Recall | F1 \")\n",
        "print(round(p,4),round(r,4),round(f,4))"
      ],
      "outputs": [
        {
          "output_type": "display_data",
          "data": {
            "text/plain": "<Figure size 432x288 with 2 Axes>",
            "image/png": "[encoded data removed]"
          },
          "metadata": {
            "needs_background": "light"
          }
        },
        {
          "output_type": "stream",
          "name": "stdout",
          "text": [
            "Accuracy :0.9998\n",
            "Precision | Recall | F1 \n",
            "0.9999 0.9998 0.9998\n"
          ]
        }
      ],
      "execution_count": 28,
      "metadata": {
        "collapsed": true,
        "jupyter": {
          "source_hidden": false,
          "outputs_hidden": false
        },
        "nteract": {
          "transient": {
            "deleting": false
          }
        },
        "gather": {
          "logged": 1611451485419
        }
      }
    },
    {
      "cell_type": "markdown",
      "source": [],
      "metadata": {
        "nteract": {
          "transient": {
            "deleting": false
          }
        }
      }
    }
  ],
  "metadata": {
    "kernel_info": {
      "name": "python3"
    },
    "kernelspec": {
      "name": "python3",
      "language": "python",
      "display_name": "Python 3"
    },
    "language_info": {
      "name": "python",
      "version": "3.6.9",
      "mimetype": "text/x-python",
      "codemirror_mode": {
        "name": "ipython",
        "version": 3
      },
      "pygments_lexer": "ipython3",
      "nbconvert_exporter": "python",
      "file_extension": ".py"
    },
    "nteract": {
      "version": "nteract-front-end@1.0.0"
    }
  },
  "nbformat": 4,
  "nbformat_minor": 2
}