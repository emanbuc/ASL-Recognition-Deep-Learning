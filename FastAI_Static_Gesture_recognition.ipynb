{
  "nbformat": 4,
  "nbformat_minor": 0,
  "metadata": {
    "colab": {
      "name": "FastAI-Static-Gesture_recognition.ipynb",
      "provenance": [],
      "mount_file_id": "1YRwrwxEx5UWGfi9wVYXARrWmEhrFGknG",
      "authorship_tag": "ABX9TyN0ZxYCB0gFT5GeYmZjTeTP",
      "include_colab_link": true
    },
    "kernelspec": {
      "name": "python3",
      "display_name": "Python 3"
    },
    "language_info": {
      "name": "python"
    },
    "widgets": {
      "application/vnd.jupyter.widget-state+json": {
        "f9ea8a02c0cd40668bf45cccb54d7591": {
          "model_module": "@jupyter-widgets/controls",
          "model_name": "HBoxModel",
          "state": {
            "_view_name": "HBoxView",
            "_dom_classes": [],
            "_model_name": "HBoxModel",
            "_view_module": "@jupyter-widgets/controls",
            "_model_module_version": "1.5.0",
            "_view_count": null,
            "_view_module_version": "1.5.0",
            "box_style": "",
            "layout": "IPY_MODEL_bdc7e279644e45c5af34b7166441bca9",
            "_model_module": "@jupyter-widgets/controls",
            "children": [
              "IPY_MODEL_0e5bd72232d14e529943d7193f3eb339",
              "IPY_MODEL_7e78f2262a584edea0f4da27f05c42aa"
            ]
          }
        },
        "bdc7e279644e45c5af34b7166441bca9": {
          "model_module": "@jupyter-widgets/base",
          "model_name": "LayoutModel",
          "state": {
            "_view_name": "LayoutView",
            "grid_template_rows": null,
            "right": null,
            "justify_content": null,
            "_view_module": "@jupyter-widgets/base",
            "overflow": null,
            "_model_module_version": "1.2.0",
            "_view_count": null,
            "flex_flow": null,
            "width": null,
            "min_width": null,
            "border": null,
            "align_items": null,
            "bottom": null,
            "_model_module": "@jupyter-widgets/base",
            "top": null,
            "grid_column": null,
            "overflow_y": null,
            "overflow_x": null,
            "grid_auto_flow": null,
            "grid_area": null,
            "grid_template_columns": null,
            "flex": null,
            "_model_name": "LayoutModel",
            "justify_items": null,
            "grid_row": null,
            "max_height": null,
            "align_content": null,
            "visibility": null,
            "align_self": null,
            "height": null,
            "min_height": null,
            "padding": null,
            "grid_auto_rows": null,
            "grid_gap": null,
            "max_width": null,
            "order": null,
            "_view_module_version": "1.2.0",
            "grid_template_areas": null,
            "object_position": null,
            "object_fit": null,
            "grid_auto_columns": null,
            "margin": null,
            "display": null,
            "left": null
          }
        },
        "0e5bd72232d14e529943d7193f3eb339": {
          "model_module": "@jupyter-widgets/controls",
          "model_name": "FloatProgressModel",
          "state": {
            "_view_name": "ProgressView",
            "style": "IPY_MODEL_e7136b1c542e40f4a0998166c29ad970",
            "_dom_classes": [],
            "description": "100%",
            "_model_name": "FloatProgressModel",
            "bar_style": "success",
            "max": 87306240,
            "_view_module": "@jupyter-widgets/controls",
            "_model_module_version": "1.5.0",
            "value": 87306240,
            "_view_count": null,
            "_view_module_version": "1.5.0",
            "orientation": "horizontal",
            "min": 0,
            "description_tooltip": null,
            "_model_module": "@jupyter-widgets/controls",
            "layout": "IPY_MODEL_5e84cb4b9c8d40a89872c3199ce68e51"
          }
        },
        "7e78f2262a584edea0f4da27f05c42aa": {
          "model_module": "@jupyter-widgets/controls",
          "model_name": "HTMLModel",
          "state": {
            "_view_name": "HTMLView",
            "style": "IPY_MODEL_0a5716340dbb42eeb66e0dfb2d7e6a7a",
            "_dom_classes": [],
            "description": "",
            "_model_name": "HTMLModel",
            "placeholder": "​",
            "_view_module": "@jupyter-widgets/controls",
            "_model_module_version": "1.5.0",
            "value": " 83.3M/83.3M [04:42&lt;00:00, 309kB/s]",
            "_view_count": null,
            "_view_module_version": "1.5.0",
            "description_tooltip": null,
            "_model_module": "@jupyter-widgets/controls",
            "layout": "IPY_MODEL_aebf9925d9bc4dc4890a332c9c09e0f9"
          }
        },
        "e7136b1c542e40f4a0998166c29ad970": {
          "model_module": "@jupyter-widgets/controls",
          "model_name": "ProgressStyleModel",
          "state": {
            "_view_name": "StyleView",
            "_model_name": "ProgressStyleModel",
            "description_width": "initial",
            "_view_module": "@jupyter-widgets/base",
            "_model_module_version": "1.5.0",
            "_view_count": null,
            "_view_module_version": "1.2.0",
            "bar_color": null,
            "_model_module": "@jupyter-widgets/controls"
          }
        },
        "5e84cb4b9c8d40a89872c3199ce68e51": {
          "model_module": "@jupyter-widgets/base",
          "model_name": "LayoutModel",
          "state": {
            "_view_name": "LayoutView",
            "grid_template_rows": null,
            "right": null,
            "justify_content": null,
            "_view_module": "@jupyter-widgets/base",
            "overflow": null,
            "_model_module_version": "1.2.0",
            "_view_count": null,
            "flex_flow": null,
            "width": null,
            "min_width": null,
            "border": null,
            "align_items": null,
            "bottom": null,
            "_model_module": "@jupyter-widgets/base",
            "top": null,
            "grid_column": null,
            "overflow_y": null,
            "overflow_x": null,
            "grid_auto_flow": null,
            "grid_area": null,
            "grid_template_columns": null,
            "flex": null,
            "_model_name": "LayoutModel",
            "justify_items": null,
            "grid_row": null,
            "max_height": null,
            "align_content": null,
            "visibility": null,
            "align_self": null,
            "height": null,
            "min_height": null,
            "padding": null,
            "grid_auto_rows": null,
            "grid_gap": null,
            "max_width": null,
            "order": null,
            "_view_module_version": "1.2.0",
            "grid_template_areas": null,
            "object_position": null,
            "object_fit": null,
            "grid_auto_columns": null,
            "margin": null,
            "display": null,
            "left": null
          }
        },
        "0a5716340dbb42eeb66e0dfb2d7e6a7a": {
          "model_module": "@jupyter-widgets/controls",
          "model_name": "DescriptionStyleModel",
          "state": {
            "_view_name": "StyleView",
            "_model_name": "DescriptionStyleModel",
            "description_width": "",
            "_view_module": "@jupyter-widgets/base",
            "_model_module_version": "1.5.0",
            "_view_count": null,
            "_view_module_version": "1.2.0",
            "_model_module": "@jupyter-widgets/controls"
          }
        },
        "aebf9925d9bc4dc4890a332c9c09e0f9": {
          "model_module": "@jupyter-widgets/base",
          "model_name": "LayoutModel",
          "state": {
            "_view_name": "LayoutView",
            "grid_template_rows": null,
            "right": null,
            "justify_content": null,
            "_view_module": "@jupyter-widgets/base",
            "overflow": null,
            "_model_module_version": "1.2.0",
            "_view_count": null,
            "flex_flow": null,
            "width": null,
            "min_width": null,
            "border": null,
            "align_items": null,
            "bottom": null,
            "_model_module": "@jupyter-widgets/base",
            "top": null,
            "grid_column": null,
            "overflow_y": null,
            "overflow_x": null,
            "grid_auto_flow": null,
            "grid_area": null,
            "grid_template_columns": null,
            "flex": null,
            "_model_name": "LayoutModel",
            "justify_items": null,
            "grid_row": null,
            "max_height": null,
            "align_content": null,
            "visibility": null,
            "align_self": null,
            "height": null,
            "min_height": null,
            "padding": null,
            "grid_auto_rows": null,
            "grid_gap": null,
            "max_width": null,
            "order": null,
            "_view_module_version": "1.2.0",
            "grid_template_areas": null,
            "object_position": null,
            "object_fit": null,
            "grid_auto_columns": null,
            "margin": null,
            "display": null,
            "left": null
          }
        }
      }
    }
  },
  "cells": [
    {
      "cell_type": "markdown",
      "metadata": {
        "id": "view-in-github",
        "colab_type": "text"
      },
      "source": [
        "<a href=\"https://colab.research.google.com/github/emanbuc/ASL-Recognition-Deep-Learning/blob/main/FastAI_Static_Gesture_recognition.ipynb\" target=\"_parent\"><img src=\"https://colab.research.google.com/assets/colab-badge.svg\" alt=\"Open In Colab\"/></a>"
      ]
    },
    {
      "cell_type": "code",
      "metadata": {
        "id": "hahvy5o4Pc24"
      },
      "source": [
        "!pip install fastai --upgrade -q\n"
      ],
      "execution_count": 64,
      "outputs": []
    },
    {
      "cell_type": "code",
      "metadata": {
        "colab": {
          "base_uri": "https://localhost:8080/"
        },
        "id": "EV0dPD4PQCze",
        "outputId": "cf020d51-120f-4882-a4cc-76fe420dfe72"
      },
      "source": [
        "from fastai.vision.all import *\n",
        "from google.colab import drive\n",
        "from google.colab import drive\n",
        "drive.mount('/gdrive',force_remount=true)\n"
      ],
      "execution_count": 65,
      "outputs": [
        {
          "output_type": "stream",
          "text": [
            "Mounted at /gdrive\n"
          ],
          "name": "stdout"
        }
      ]
    },
    {
      "cell_type": "code",
      "metadata": {
        "id": "VoyLluhERtRW"
      },
      "source": [
        "root_dir = '/gdrive/MyDrive/Gesture/'\n",
        "imagePath=Path(root_dir + 'images')"
      ],
      "execution_count": 78,
      "outputs": []
    },
    {
      "cell_type": "code",
      "metadata": {
        "colab": {
          "base_uri": "https://localhost:8080/"
        },
        "id": "tOAxiyUBZTfM",
        "outputId": "3c53478f-4c1e-4f75-b89e-ab068ca5bd59"
      },
      "source": [
        "imagePath"
      ],
      "execution_count": 79,
      "outputs": [
        {
          "output_type": "execute_result",
          "data": {
            "text/plain": [
              "Path('/gdrive/MyDrive/Gesture/images')"
            ]
          },
          "metadata": {
            "tags": []
          },
          "execution_count": 79
        }
      ]
    },
    {
      "cell_type": "code",
      "metadata": {
        "colab": {
          "base_uri": "https://localhost:8080/"
        },
        "id": "vuSyjfpRh-M5",
        "outputId": "23059f83-590c-41f1-c60f-9a32c07bb5b0"
      },
      "source": [
        "import os\n",
        "\n",
        "\n",
        "\n",
        "files = os.listdir(imagePath)\n",
        "\n",
        "for f in files:\n",
        "\tprint(f)\n"
      ],
      "execution_count": 80,
      "outputs": [
        {
          "output_type": "stream",
          "text": [
            "test_image_FS_A_221.png\n",
            "test_image_FS_A_224.png\n",
            "test_image_FS_A_223.png\n",
            "test_image_FS_A_222.png\n",
            "test_image_FS_A_225.png\n",
            "test_image_FS_A_230.png\n",
            "test_image_FS_A_228.png\n",
            "test_image_FS_A_229.png\n",
            "test_image_FS_A_226.png\n",
            "test_image_FS_A_227.png\n",
            "test_image_FS_A_231.png\n",
            "test_image_FS_B_231.png\n",
            "test_image_FS_B_234.png\n",
            "test_image_FS_B_232.png\n",
            "test_image_FS_B_233.png\n",
            "test_image_FS_B_239.png\n",
            "test_image_FS_B_235.png\n",
            "test_image_FS_B_237.png\n",
            "test_image_FS_B_238.png\n",
            "test_image_FS_B_236.png\n",
            "test_image_FS_B_242.png\n",
            "test_image_FS_B_244.png\n",
            "test_image_FS_B_241.png\n",
            "test_image_FS_B_245.png\n",
            "test_image_FS_B_240.png\n",
            "test_image_FS_B_243.png\n",
            "test_image_FS_C_391.png\n",
            "test_image_FS_C_393.png\n",
            "test_image_FS_C_394.png\n",
            "test_image_FS_C_395.png\n",
            "test_image_FS_C_392.png\n",
            "test_image_FS_C_396.png\n",
            "test_image_FS_C_397.png\n",
            "test_image_FS_C_398.png\n",
            "test_image_FS_C_399.png\n",
            "test_image_FS_C_400.png\n",
            "test_image_FS_C_401.png\n"
          ],
          "name": "stdout"
        }
      ]
    },
    {
      "cell_type": "code",
      "metadata": {
        "colab": {
          "base_uri": "https://localhost:8080/"
        },
        "id": "O67fiDegeaLE",
        "outputId": "6a59ede0-644c-4679-8b70-95f982601257"
      },
      "source": [
        "fnames = get_image_files(imagePath)\n",
        "fnames"
      ],
      "execution_count": 81,
      "outputs": [
        {
          "output_type": "execute_result",
          "data": {
            "text/plain": [
              "(#37) [Path('/gdrive/MyDrive/Gesture/images/test_image_FS_A_221.png'),Path('/gdrive/MyDrive/Gesture/images/test_image_FS_A_224.png'),Path('/gdrive/MyDrive/Gesture/images/test_image_FS_A_223.png'),Path('/gdrive/MyDrive/Gesture/images/test_image_FS_A_222.png'),Path('/gdrive/MyDrive/Gesture/images/test_image_FS_A_225.png'),Path('/gdrive/MyDrive/Gesture/images/test_image_FS_A_230.png'),Path('/gdrive/MyDrive/Gesture/images/test_image_FS_A_228.png'),Path('/gdrive/MyDrive/Gesture/images/test_image_FS_A_229.png'),Path('/gdrive/MyDrive/Gesture/images/test_image_FS_A_226.png'),Path('/gdrive/MyDrive/Gesture/images/test_image_FS_A_227.png')...]"
            ]
          },
          "metadata": {
            "tags": []
          },
          "execution_count": 81
        }
      ]
    },
    {
      "cell_type": "code",
      "metadata": {
        "id": "CdS2ywC6SVkS"
      },
      "source": [
        "dblock = DataBlock(blocks=(ImageBlock, CategoryBlock),\n",
        "                   get_items=get_image_files,\n",
        "                   get_y=Pipeline([attrgetter(\"name\"),RegexLabeller(pat = r'^.*_([A-Z])_\\d+.png$')]),\n",
        "                   splitter=RandomSplitter(valid_pct=0.2, seed=42),\n",
        "                   item_tfms = Resize(224))"
      ],
      "execution_count": 83,
      "outputs": []
    },
    {
      "cell_type": "code",
      "metadata": {
        "id": "bI7Zu21pZ8dh"
      },
      "source": [
        "dsets = dblock.datasets(imagePath)\n"
      ],
      "execution_count": 84,
      "outputs": []
    },
    {
      "cell_type": "code",
      "metadata": {
        "colab": {
          "base_uri": "https://localhost:8080/"
        },
        "id": "G53v3B6EkGE3",
        "outputId": "3f791335-8903-486c-dbbb-682ba41fa01e"
      },
      "source": [
        "dsets.train[0]\n"
      ],
      "execution_count": 85,
      "outputs": [
        {
          "output_type": "execute_result",
          "data": {
            "text/plain": [
              "(PILImage mode=RGB size=375x277, TensorCategory(1))"
            ]
          },
          "metadata": {
            "tags": []
          },
          "execution_count": 85
        }
      ]
    },
    {
      "cell_type": "code",
      "metadata": {
        "id": "m04sNlpllgV6"
      },
      "source": [
        "dl= dblock.dataloaders(imagePath,bs=32)"
      ],
      "execution_count": 90,
      "outputs": []
    },
    {
      "cell_type": "code",
      "metadata": {
        "colab": {
          "base_uri": "https://localhost:8080/",
          "height": 372
        },
        "id": "TT99PPE7knTx",
        "outputId": "6e2f52e8-b47c-4339-c819-de1e12409040"
      },
      "source": [
        "dl.valid.show_batch(max_n=12, nrows=2)"
      ],
      "execution_count": 91,
      "outputs": [
        {
          "output_type": "display_data",
          "data": {
            "image/png": "[encoded data removed]",
            "text/plain": [
              "<Figure size 864x432 with 8 Axes>"
            ]
          },
          "metadata": {
            "tags": [],
            "needs_background": "light"
          }
        }
      ]
    },
    {
      "cell_type": "markdown",
      "metadata": {
        "id": "RKlqu31NC30s"
      },
      "source": [
        "Convoluted neural network (CNN) is the de facto standard neural network type for image classification. We will use resnet34 (i.e. a well known 34 layers deep CNN).\n",
        "\n",
        "We are using the .fine_tune method instead of .fit because we are leveraging on the pretrained general purpose resnet model to perform transfer learning. In the fine_tune we specify the number of epochs to be 4."
      ]
    },
    {
      "cell_type": "code",
      "metadata": {
        "colab": {
          "base_uri": "https://localhost:8080/",
          "height": 356,
          "referenced_widgets": [
            "f9ea8a02c0cd40668bf45cccb54d7591",
            "bdc7e279644e45c5af34b7166441bca9",
            "0e5bd72232d14e529943d7193f3eb339",
            "7e78f2262a584edea0f4da27f05c42aa",
            "e7136b1c542e40f4a0998166c29ad970",
            "5e84cb4b9c8d40a89872c3199ce68e51",
            "0a5716340dbb42eeb66e0dfb2d7e6a7a",
            "aebf9925d9bc4dc4890a332c9c09e0f9"
          ]
        },
        "id": "dVc9OmXxChJr",
        "outputId": "60467d2b-acd5-40f0-d976-e1b4ee536ecb"
      },
      "source": [
        "learn = cnn_learner(dl, resnet34, metrics=error_rate)\n",
        "learn.fine_tune(4)"
      ],
      "execution_count": 93,
      "outputs": [
        {
          "output_type": "stream",
          "text": [
            "Downloading: \"https://download.pytorch.org/models/resnet34-333f7ec4.pth\" to /root/.cache/torch/hub/checkpoints/resnet34-333f7ec4.pth\n"
          ],
          "name": "stderr"
        },
        {
          "output_type": "display_data",
          "data": {
            "application/vnd.jupyter.widget-view+json": {
              "model_id": "f9ea8a02c0cd40668bf45cccb54d7591",
              "version_minor": 0,
              "version_major": 2
            },
            "text/plain": [
              "HBox(children=(FloatProgress(value=0.0, max=87306240.0), HTML(value='')))"
            ]
          },
          "metadata": {
            "tags": []
          }
        },
        {
          "output_type": "stream",
          "text": [
            "\n"
          ],
          "name": "stdout"
        },
        {
          "output_type": "display_data",
          "data": {
            "text/html": [
              "<table border=\"1\" class=\"dataframe\">\n",
              "  <thead>\n",
              "    <tr style=\"text-align: left;\">\n",
              "      <th>epoch</th>\n",
              "      <th>train_loss</th>\n",
              "      <th>valid_loss</th>\n",
              "      <th>error_rate</th>\n",
              "      <th>time</th>\n",
              "    </tr>\n",
              "  </thead>\n",
              "  <tbody>\n",
              "    <tr>\n",
              "      <td>0</td>\n",
              "      <td>nan</td>\n",
              "      <td>3.002862</td>\n",
              "      <td>0.428571</td>\n",
              "      <td>00:13</td>\n",
              "    </tr>\n",
              "  </tbody>\n",
              "</table>"
            ],
            "text/plain": [
              "<IPython.core.display.HTML object>"
            ]
          },
          "metadata": {
            "tags": []
          }
        },
        {
          "output_type": "stream",
          "text": [
            "/usr/local/lib/python3.7/dist-packages/fastprogress/fastprogress.py:74: UserWarning: Your generator is empty.\n",
            "  warn(\"Your generator is empty.\")\n"
          ],
          "name": "stderr"
        },
        {
          "output_type": "display_data",
          "data": {
            "text/html": [
              "<table border=\"1\" class=\"dataframe\">\n",
              "  <thead>\n",
              "    <tr style=\"text-align: left;\">\n",
              "      <th>epoch</th>\n",
              "      <th>train_loss</th>\n",
              "      <th>valid_loss</th>\n",
              "      <th>error_rate</th>\n",
              "      <th>time</th>\n",
              "    </tr>\n",
              "  </thead>\n",
              "  <tbody>\n",
              "    <tr>\n",
              "      <td>0</td>\n",
              "      <td>nan</td>\n",
              "      <td>3.002862</td>\n",
              "      <td>0.428571</td>\n",
              "      <td>00:01</td>\n",
              "    </tr>\n",
              "    <tr>\n",
              "      <td>1</td>\n",
              "      <td>nan</td>\n",
              "      <td>3.002862</td>\n",
              "      <td>0.428571</td>\n",
              "      <td>00:01</td>\n",
              "    </tr>\n",
              "    <tr>\n",
              "      <td>2</td>\n",
              "      <td>nan</td>\n",
              "      <td>3.002862</td>\n",
              "      <td>0.428571</td>\n",
              "      <td>00:01</td>\n",
              "    </tr>\n",
              "    <tr>\n",
              "      <td>3</td>\n",
              "      <td>nan</td>\n",
              "      <td>3.002862</td>\n",
              "      <td>0.428571</td>\n",
              "      <td>00:01</td>\n",
              "    </tr>\n",
              "  </tbody>\n",
              "</table>"
            ],
            "text/plain": [
              "<IPython.core.display.HTML object>"
            ]
          },
          "metadata": {
            "tags": []
          }
        }
      ]
    },
    {
      "cell_type": "markdown",
      "metadata": {
        "id": "N0j5sNW4D6bJ"
      },
      "source": [
        "Looking at the Confusion Matrix for better visualization of the results."
      ]
    },
    {
      "cell_type": "code",
      "metadata": {
        "colab": {
          "base_uri": "https://localhost:8080/",
          "height": 311
        },
        "id": "004nqVddDpWG",
        "outputId": "bf96232f-cb90-4cf4-ff65-2ac9a2bfe567"
      },
      "source": [
        "interpretation = ClassificationInterpretation.from_learner(learn)\n",
        "interpretation.plot_confusion_matrix()"
      ],
      "execution_count": 94,
      "outputs": [
        {
          "output_type": "display_data",
          "data": {
            "text/html": [
              ""
            ],
            "text/plain": [
              "<IPython.core.display.HTML object>"
            ]
          },
          "metadata": {
            "tags": []
          }
        },
        {
          "output_type": "display_data",
          "data": {
            "image/png": "[encoded data removed]",
            "text/plain": [
              "<Figure size 432x288 with 1 Axes>"
            ]
          },
          "metadata": {
            "tags": [],
            "needs_background": "light"
          }
        }
      ]
    },
    {
      "cell_type": "markdown",
      "metadata": {
        "id": "c8_Si4phD8Yj"
      },
      "source": [
        "fast.ai also provides a easy method that allows us to find out which are the images where there was the highest loss. \n",
        "\n",
        "The loss is a number that is higher if the model is incorrect (especially if it is also confident of its incorrect answer), or if it is correct, but not confident of its correct answer."
      ]
    },
    {
      "cell_type": "code",
      "metadata": {
        "colab": {
          "base_uri": "https://localhost:8080/",
          "height": 206
        },
        "id": "vqk0h1F9EMoE",
        "outputId": "fccb1ffb-6824-43fd-8568-7ae2b47f9e92"
      },
      "source": [
        "interpretation.plot_top_losses(5, nrows=1)"
      ],
      "execution_count": 96,
      "outputs": [
        {
          "output_type": "display_data",
          "data": {
            "image/png": "[encoded data removed]",
            "text/plain": [
              "<Figure size 1080x216 with 5 Axes>"
            ]
          },
          "metadata": {
            "tags": [],
            "needs_background": "light"
          }
        }
      ]
    },
    {
      "cell_type": "markdown",
      "metadata": {
        "id": "A_SByonsVjS6"
      },
      "source": [
        "export the model"
      ]
    },
    {
      "cell_type": "code",
      "metadata": {
        "id": "qk0NFRgET2Fc"
      },
      "source": [
        "learn.export()\n",
        "path = Path()\n",
        "path.ls(file_exts='.pkl')"
      ],
      "execution_count": null,
      "outputs": []
    },
    {
      "cell_type": "code",
      "metadata": {
        "id": "tJ30-vbYVqpk"
      },
      "source": [
        "Use model for inference"
      ],
      "execution_count": null,
      "outputs": []
    },
    {
      "cell_type": "code",
      "metadata": {
        "id": "JEyfVXegT6x3"
      },
      "source": [
        "learn_inf = load_learner(path/'export.pkl')"
      ],
      "execution_count": null,
      "outputs": []
    },
    {
      "cell_type": "code",
      "metadata": {
        "id": "oW380MnwVIzk"
      },
      "source": [
        "learn_inf.predict('test_images/test_image_ADA_A_600.png')\n",
        "('whisky', tensor(1), tensor([4.1783e-04, 9.9951e-01, 7.0310e-05]))\n",
        "learn_inf.dls.vocab\n",
        "['beer', 'whisky', 'wine']"
      ],
      "execution_count": null,
      "outputs": []
    },
    {
      "cell_type": "markdown",
      "metadata": {
        "id": "RR6dhOyuRT7e"
      },
      "source": [
        "# Nuova sezione"
      ]
    },
    {
      "cell_type": "code",
      "metadata": {
        "id": "LW8wUFmCVgNl"
      },
      "source": [
        ""
      ],
      "execution_count": null,
      "outputs": []
    }
  ]
}