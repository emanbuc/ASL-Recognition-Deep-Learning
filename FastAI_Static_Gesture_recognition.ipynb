{
  "nbformat": 4,
  "nbformat_minor": 0,
  "metadata": {
    "colab": {
      "name": "FastAI-Static-Gesture_recognition.ipynb",
      "provenance": [],
      "toc_visible": true,
      "mount_file_id": "1YRwrwxEx5UWGfi9wVYXARrWmEhrFGknG",
      "authorship_tag": "ABX9TyMW0RAsIcKgVS6Rs7IAXfbN",
      "include_colab_link": true
    },
    "kernelspec": {
      "name": "python3",
      "display_name": "Python 3"
    },
    "language_info": {
      "name": "python"
    }
  },
  "cells": [
    {
      "cell_type": "markdown",
      "metadata": {
        "id": "view-in-github",
        "colab_type": "text"
      },
      "source": [
        "<a href=\"https://colab.research.google.com/github/emanbuc/ASL-Recognition-Deep-Learning/blob/main/FastAI_Static_Gesture_recognition.ipynb\" target=\"_parent\"><img src=\"https://colab.research.google.com/assets/colab-badge.svg\" alt=\"Open In Colab\"/></a>"
      ]
    },
    {
      "cell_type": "code",
      "metadata": {
        "id": "hahvy5o4Pc24"
      },
      "source": [
        "!pip install fastai --upgrade -q\n"
      ],
      "execution_count": 97,
      "outputs": []
    },
    {
      "cell_type": "code",
      "metadata": {
        "colab": {
          "base_uri": "https://localhost:8080/"
        },
        "id": "EV0dPD4PQCze",
        "outputId": "37a11a3e-c4b1-4ee2-8b99-76f9802a8eae"
      },
      "source": [
        "from fastai.vision.all import *\n",
        "from google.colab import drive\n",
        "from google.colab import drive\n",
        "drive.mount('/gdrive',force_remount=true)\n"
      ],
      "execution_count": 98,
      "outputs": [
        {
          "output_type": "stream",
          "text": [
            "Mounted at /gdrive\n"
          ],
          "name": "stdout"
        }
      ]
    },
    {
      "cell_type": "code",
      "metadata": {
        "id": "VoyLluhERtRW"
      },
      "source": [
        "root_dir = '/gdrive/MyDrive/Gesture/'\n",
        "imagePath=Path(root_dir + 'images')"
      ],
      "execution_count": 99,
      "outputs": []
    },
    {
      "cell_type": "code",
      "metadata": {
        "colab": {
          "base_uri": "https://localhost:8080/"
        },
        "id": "tOAxiyUBZTfM",
        "outputId": "fdb0c048-fd82-4ea9-9b5c-acff06edc139"
      },
      "source": [
        "imagePath"
      ],
      "execution_count": 100,
      "outputs": [
        {
          "output_type": "execute_result",
          "data": {
            "text/plain": [
              "Path('/gdrive/MyDrive/Gesture/images')"
            ]
          },
          "metadata": {
            "tags": []
          },
          "execution_count": 100
        }
      ]
    },
    {
      "cell_type": "code",
      "metadata": {
        "colab": {
          "base_uri": "https://localhost:8080/"
        },
        "id": "vuSyjfpRh-M5",
        "outputId": "62e017b5-8f32-48a9-83c7-b1856d996927"
      },
      "source": [
        "import os\n",
        "\n",
        "\n",
        "\n",
        "files = os.listdir(imagePath)\n",
        "\n",
        "for f in files:\n",
        "\tprint(f)\n"
      ],
      "execution_count": 101,
      "outputs": [
        {
          "output_type": "stream",
          "text": [
            "test_image_FS_A_413.png\n",
            "test_image_FS_A_411.png\n",
            "test_image_FS_A_409.png\n",
            "test_image_FS_A_408.png\n",
            "test_image_FS_A_410.png\n",
            "test_image_FS_A_406.png\n",
            "test_image_FS_A_407.png\n",
            "test_image_FS_A_405.png\n",
            "test_image_FS_A_404.png\n",
            "test_image_FS_A_402.png\n",
            "test_image_FS_A_403.png\n",
            "test_image_FS_A_397.png\n",
            "test_image_FS_A_401.png\n",
            "test_image_FS_A_400.png\n",
            "test_image_FS_A_398.png\n",
            "test_image_FS_A_399.png\n",
            "test_image_FS_A_396.png\n",
            "test_image_FS_A_395.png\n",
            "test_image_FS_A_394.png\n",
            "test_image_FS_A_393.png\n",
            "test_image_FS_A_392.png\n",
            "test_image_FS_A_391.png\n",
            "test_image_FS_A_390.png\n",
            "test_image_FS_A_389.png\n",
            "test_image_FS_A_386.png\n",
            "test_image_FS_A_387.png\n",
            "test_image_FS_A_388.png\n",
            "test_image_FS_A_385.png\n",
            "test_image_FS_A_383.png\n",
            "test_image_FS_A_384.png\n",
            "test_image_FS_A_382.png\n",
            "test_image_FS_A_452.png\n",
            "test_image_FS_A_451.png\n",
            "test_image_FS_A_449.png\n",
            "test_image_FS_A_450.png\n",
            "test_image_FS_A_448.png\n",
            "test_image_FS_A_447.png\n",
            "test_image_FS_A_446.png\n",
            "test_image_FS_A_445.png\n",
            "test_image_FS_A_444.png\n",
            "test_image_FS_A_442.png\n",
            "test_image_FS_A_443.png\n",
            "test_image_FS_A_440.png\n",
            "test_image_FS_A_437.png\n",
            "test_image_FS_A_441.png\n",
            "test_image_FS_A_439.png\n",
            "test_image_FS_A_436.png\n",
            "test_image_FS_A_438.png\n",
            "test_image_FS_A_435.png\n",
            "test_image_FS_A_434.png\n",
            "test_image_FS_A_432.png\n",
            "test_image_FS_A_433.png\n",
            "test_image_FS_A_428.png\n",
            "test_image_FS_A_431.png\n",
            "test_image_FS_A_430.png\n",
            "test_image_FS_A_429.png\n",
            "test_image_FS_A_426.png\n",
            "test_image_FS_A_423.png\n",
            "test_image_FS_A_424.png\n",
            "test_image_FS_A_427.png\n",
            "test_image_FS_A_425.png\n",
            "test_image_FS_A_422.png\n",
            "test_image_FS_A_417.png\n",
            "test_image_FS_A_421.png\n",
            "test_image_FS_A_420.png\n",
            "test_image_FS_A_412.png\n",
            "test_image_FS_A_419.png\n",
            "test_image_FS_A_416.png\n",
            "test_image_FS_A_418.png\n",
            "test_image_FS_A_415.png\n",
            "test_image_FS_A_414.png\n",
            "test_image_FS_A_492.png\n",
            "test_image_FS_A_490.png\n",
            "test_image_FS_A_489.png\n",
            "test_image_FS_A_491.png\n",
            "test_image_FS_A_487.png\n",
            "test_image_FS_A_488.png\n",
            "test_image_FS_A_486.png\n",
            "test_image_FS_A_484.png\n",
            "test_image_FS_A_485.png\n",
            "test_image_FS_A_483.png\n",
            "test_image_FS_A_482.png\n",
            "test_image_FS_A_481.png\n",
            "test_image_FS_A_480.png\n",
            "test_image_FS_A_478.png\n",
            "test_image_FS_A_479.png\n",
            "test_image_FS_A_476.png\n",
            "test_image_FS_A_477.png\n",
            "test_image_FS_A_475.png\n",
            "test_image_FS_A_472.png\n",
            "test_image_FS_A_474.png\n",
            "test_image_FS_A_473.png\n",
            "test_image_FS_A_471.png\n",
            "test_image_FS_A_470.png\n",
            "test_image_FS_A_467.png\n",
            "test_image_FS_A_469.png\n",
            "test_image_FS_A_468.png\n",
            "test_image_FS_A_465.png\n",
            "test_image_FS_A_466.png\n",
            "test_image_FS_A_464.png\n",
            "test_image_FS_A_463.png\n",
            "test_image_FS_A_462.png\n",
            "test_image_FS_A_460.png\n",
            "test_image_FS_A_461.png\n",
            "test_image_FS_A_459.png\n",
            "test_image_FS_A_458.png\n",
            "test_image_FS_A_457.png\n",
            "test_image_FS_A_456.png\n",
            "test_image_FS_A_455.png\n",
            "test_image_FS_A_454.png\n",
            "test_image_FS_A_453.png\n",
            "test_image_FS_A_529.png\n",
            "test_image_FS_A_525.png\n",
            "test_image_FS_A_528.png\n",
            "test_image_FS_A_526.png\n",
            "test_image_FS_A_523.png\n",
            "test_image_FS_A_524.png\n",
            "test_image_FS_A_522.png\n",
            "test_image_FS_A_519.png\n",
            "test_image_FS_A_518.png\n",
            "test_image_FS_A_521.png\n",
            "test_image_FS_A_520.png\n",
            "test_image_FS_A_517.png\n",
            "test_image_FS_A_516.png\n",
            "test_image_FS_A_515.png\n",
            "test_image_FS_A_513.png\n",
            "test_image_FS_A_512.png\n",
            "test_image_FS_A_514.png\n",
            "test_image_FS_A_508.png\n",
            "test_image_FS_A_511.png\n",
            "test_image_FS_A_510.png\n",
            "test_image_FS_A_503.png\n",
            "test_image_FS_A_507.png\n",
            "test_image_FS_A_509.png\n",
            "test_image_FS_A_505.png\n",
            "test_image_FS_A_504.png\n",
            "test_image_FS_A_506.png\n",
            "test_image_FS_A_502.png\n",
            "test_image_FS_A_501.png\n",
            "test_image_FS_A_500.png\n",
            "test_image_FS_A_499.png\n",
            "test_image_FS_A_497.png\n",
            "test_image_FS_A_498.png\n",
            "test_image_FS_A_496.png\n",
            "test_image_FS_A_495.png\n",
            "test_image_FS_A_494.png\n",
            "test_image_FS_A_493.png\n",
            "test_image_FS_A_562.png\n",
            "test_image_FS_A_560.png\n",
            "test_image_FS_A_559.png\n",
            "test_image_FS_A_561.png\n",
            "test_image_FS_A_558.png\n",
            "test_image_FS_A_553.png\n",
            "test_image_FS_A_555.png\n",
            "test_image_FS_A_552.png\n",
            "test_image_FS_A_557.png\n",
            "test_image_FS_A_554.png\n",
            "test_image_FS_A_556.png\n",
            "test_image_FS_A_551.png\n",
            "test_image_FS_A_549.png\n",
            "test_image_FS_A_550.png\n",
            "test_image_FS_A_546.png\n",
            "test_image_FS_A_548.png\n",
            "test_image_FS_A_547.png\n",
            "test_image_FS_A_545.png\n",
            "test_image_FS_A_544.png\n",
            "test_image_FS_A_543.png\n",
            "test_image_FS_A_542.png\n",
            "test_image_FS_A_540.png\n",
            "test_image_FS_A_539.png\n",
            "test_image_FS_A_541.png\n",
            "test_image_FS_A_536.png\n",
            "test_image_FS_A_537.png\n",
            "test_image_FS_A_538.png\n",
            "test_image_FS_A_533.png\n",
            "test_image_FS_A_535.png\n",
            "test_image_FS_A_534.png\n",
            "test_image_FS_A_532.png\n",
            "test_image_FS_A_527.png\n",
            "test_image_FS_A_531.png\n",
            "test_image_FS_A_530.png\n",
            "test_image_FS_B_222.png\n",
            "test_image_FS_B_221.png\n",
            "test_image_FS_A_600.png\n",
            "test_image_FS_A_598.png\n",
            "test_image_FS_A_599.png\n",
            "test_image_FS_A_597.png\n",
            "test_image_FS_A_596.png\n",
            "test_image_FS_A_594.png\n",
            "test_image_FS_A_593.png\n",
            "test_image_FS_A_595.png\n",
            "test_image_FS_A_592.png\n",
            "test_image_FS_A_589.png\n",
            "test_image_FS_A_591.png\n",
            "test_image_FS_A_590.png\n",
            "test_image_FS_A_586.png\n",
            "test_image_FS_A_587.png\n",
            "test_image_FS_A_583.png\n",
            "test_image_FS_A_584.png\n",
            "test_image_FS_A_588.png\n",
            "test_image_FS_A_585.png\n",
            "test_image_FS_A_582.png\n",
            "test_image_FS_A_580.png\n",
            "test_image_FS_A_579.png\n",
            "test_image_FS_A_581.png\n",
            "test_image_FS_A_577.png\n",
            "test_image_FS_A_578.png\n",
            "test_image_FS_A_575.png\n",
            "test_image_FS_A_574.png\n",
            "test_image_FS_A_576.png\n",
            "test_image_FS_A_573.png\n",
            "test_image_FS_A_572.png\n",
            "test_image_FS_A_569.png\n",
            "test_image_FS_A_571.png\n",
            "test_image_FS_A_570.png\n",
            "test_image_FS_A_568.png\n",
            "test_image_FS_A_566.png\n",
            "test_image_FS_A_567.png\n",
            "test_image_FS_A_565.png\n",
            "test_image_FS_A_564.png\n",
            "test_image_FS_A_563.png\n",
            "test_image_FS_B_260.png\n",
            "test_image_FS_B_261.png\n",
            "test_image_FS_B_259.png\n",
            "test_image_FS_B_258.png\n",
            "test_image_FS_B_257.png\n",
            "test_image_FS_B_256.png\n",
            "test_image_FS_B_254.png\n",
            "test_image_FS_B_253.png\n",
            "test_image_FS_B_255.png\n",
            "test_image_FS_B_252.png\n",
            "test_image_FS_B_250.png\n",
            "test_image_FS_B_249.png\n",
            "test_image_FS_B_251.png\n",
            "test_image_FS_B_248.png\n",
            "test_image_FS_B_246.png\n",
            "test_image_FS_B_247.png\n",
            "test_image_FS_B_245.png\n",
            "test_image_FS_B_243.png\n",
            "test_image_FS_B_244.png\n",
            "test_image_FS_B_242.png\n",
            "test_image_FS_B_239.png\n",
            "test_image_FS_B_241.png\n",
            "test_image_FS_B_240.png\n",
            "test_image_FS_B_238.png\n",
            "test_image_FS_B_237.png\n",
            "test_image_FS_B_236.png\n",
            "test_image_FS_B_235.png\n",
            "test_image_FS_B_234.png\n",
            "test_image_FS_B_233.png\n",
            "test_image_FS_B_232.png\n",
            "test_image_FS_B_230.png\n",
            "test_image_FS_B_229.png\n",
            "test_image_FS_B_231.png\n",
            "test_image_FS_B_226.png\n",
            "test_image_FS_B_228.png\n",
            "test_image_FS_B_227.png\n",
            "test_image_FS_B_224.png\n",
            "test_image_FS_B_225.png\n",
            "test_image_FS_B_223.png\n",
            "test_image_FS_B_299.png\n",
            "test_image_FS_B_298.png\n",
            "test_image_FS_B_300.png\n",
            "test_image_FS_B_297.png\n",
            "test_image_FS_B_295.png\n",
            "test_image_FS_B_296.png\n",
            "test_image_FS_B_304.png\n",
            "test_image_FS_B_303.png\n",
            "test_image_FS_B_294.png\n",
            "test_image_FS_B_293.png\n",
            "test_image_FS_B_290.png\n",
            "test_image_FS_B_289.png\n",
            "test_image_FS_B_288.png\n",
            "test_image_FS_B_285.png\n",
            "test_image_FS_B_284.png\n",
            "test_image_FS_B_286.png\n",
            "test_image_FS_B_283.png\n",
            "test_image_FS_B_287.png\n",
            "test_image_FS_B_292.png\n",
            "test_image_FS_B_291.png\n",
            "test_image_FS_B_282.png\n",
            "test_image_FS_B_281.png\n",
            "test_image_FS_B_279.png\n",
            "test_image_FS_B_280.png\n",
            "test_image_FS_B_278.png\n",
            "test_image_FS_B_277.png\n",
            "test_image_FS_B_276.png\n",
            "test_image_FS_B_275.png\n",
            "test_image_FS_B_274.png\n",
            "test_image_FS_B_273.png\n",
            "test_image_FS_B_272.png\n",
            "test_image_FS_B_271.png\n",
            "test_image_FS_B_269.png\n",
            "test_image_FS_B_270.png\n",
            "test_image_FS_B_268.png\n",
            "test_image_FS_B_264.png\n",
            "test_image_FS_B_267.png\n",
            "test_image_FS_B_263.png\n",
            "test_image_FS_B_265.png\n",
            "test_image_FS_B_266.png\n",
            "test_image_FS_B_262.png\n",
            "test_image_FS_B_353.png\n",
            "test_image_FS_B_344.png\n",
            "test_image_FS_B_343.png\n",
            "test_image_FS_B_340.png\n",
            "test_image_FS_B_339.png\n",
            "test_image_FS_B_342.png\n",
            "test_image_FS_B_338.png\n",
            "test_image_FS_B_336.png\n",
            "test_image_FS_B_337.png\n",
            "test_image_FS_B_335.png\n",
            "test_image_FS_B_333.png\n",
            "test_image_FS_B_334.png\n",
            "test_image_FS_B_341.png\n",
            "test_image_FS_B_332.png\n",
            "test_image_FS_B_331.png\n",
            "test_image_FS_B_327.png\n",
            "test_image_FS_B_328.png\n",
            "test_image_FS_B_330.png\n",
            "test_image_FS_B_326.png\n",
            "test_image_FS_B_325.png\n",
            "test_image_FS_B_324.png\n",
            "test_image_FS_B_323.png\n",
            "test_image_FS_B_322.png\n",
            "test_image_FS_B_321.png\n",
            "test_image_FS_B_329.png\n",
            "test_image_FS_B_320.png\n",
            "test_image_FS_B_319.png\n",
            "test_image_FS_B_314.png\n",
            "test_image_FS_B_315.png\n",
            "test_image_FS_B_318.png\n",
            "test_image_FS_B_313.png\n",
            "test_image_FS_B_311.png\n",
            "test_image_FS_B_312.png\n",
            "test_image_FS_B_310.png\n",
            "test_image_FS_B_309.png\n",
            "test_image_FS_B_308.png\n",
            "test_image_FS_B_317.png\n",
            "test_image_FS_B_316.png\n",
            "test_image_FS_B_307.png\n",
            "test_image_FS_B_306.png\n",
            "test_image_FS_B_302.png\n",
            "test_image_FS_B_301.png\n",
            "test_image_FS_B_305.png\n",
            "test_image_FS_B_392.png\n",
            "test_image_FS_B_387.png\n",
            "test_image_FS_B_388.png\n",
            "test_image_FS_B_391.png\n",
            "test_image_FS_B_386.png\n",
            "test_image_FS_B_385.png\n",
            "test_image_FS_B_384.png\n",
            "test_image_FS_B_383.png\n",
            "test_image_FS_B_382.png\n",
            "test_image_FS_B_381.png\n",
            "test_image_FS_B_390.png\n",
            "test_image_FS_B_389.png\n",
            "test_image_FS_B_380.png\n",
            "test_image_FS_B_379.png\n",
            "test_image_FS_B_376.png\n",
            "test_image_FS_B_375.png\n",
            "test_image_FS_B_378.png\n",
            "test_image_FS_B_374.png\n",
            "test_image_FS_B_373.png\n",
            "test_image_FS_B_372.png\n",
            "test_image_FS_B_371.png\n",
            "test_image_FS_B_369.png\n",
            "test_image_FS_B_370.png\n",
            "test_image_FS_B_377.png\n",
            "test_image_FS_B_368.png\n",
            "test_image_FS_B_367.png\n",
            "test_image_FS_B_364.png\n",
            "test_image_FS_B_363.png\n",
            "test_image_FS_B_362.png\n",
            "test_image_FS_B_366.png\n",
            "test_image_FS_B_360.png\n",
            "test_image_FS_B_361.png\n",
            "test_image_FS_B_359.png\n",
            "test_image_FS_B_356.png\n",
            "test_image_FS_B_358.png\n",
            "test_image_FS_B_365.png\n",
            "test_image_FS_B_357.png\n",
            "test_image_FS_B_355.png\n",
            "test_image_FS_B_352.png\n",
            "test_image_FS_B_351.png\n",
            "test_image_FS_B_350.png\n",
            "test_image_FS_B_349.png\n",
            "test_image_FS_B_348.png\n",
            "test_image_FS_B_347.png\n",
            "test_image_FS_B_345.png\n",
            "test_image_FS_B_346.png\n",
            "test_image_FS_B_354.png\n",
            "test_image_FS_B_436.png\n",
            "test_image_FS_B_437.png\n",
            "test_image_FS_B_440.png\n",
            "test_image_FS_B_435.png\n",
            "test_image_FS_B_434.png\n",
            "test_image_FS_B_433.png\n",
            "test_image_FS_B_432.png\n",
            "test_image_FS_B_430.png\n",
            "test_image_FS_B_431.png\n",
            "test_image_FS_B_439.png\n",
            "test_image_FS_B_438.png\n",
            "test_image_FS_B_429.png\n",
            "test_image_FS_B_428.png\n",
            "test_image_FS_B_424.png\n",
            "test_image_FS_B_425.png\n",
            "test_image_FS_B_423.png\n",
            "test_image_FS_B_422.png\n",
            "test_image_FS_B_421.png\n",
            "test_image_FS_B_420.png\n",
            "test_image_FS_B_418.png\n",
            "test_image_FS_B_419.png\n",
            "test_image_FS_B_427.png\n",
            "test_image_FS_B_426.png\n",
            "test_image_FS_B_417.png\n",
            "test_image_FS_B_416.png\n",
            "test_image_FS_B_413.png\n",
            "test_image_FS_B_412.png\n",
            "test_image_FS_B_411.png\n",
            "test_image_FS_B_409.png\n",
            "test_image_FS_B_410.png\n",
            "test_image_FS_B_408.png\n",
            "test_image_FS_B_406.png\n",
            "test_image_FS_B_407.png\n",
            "test_image_FS_B_415.png\n",
            "test_image_FS_B_414.png\n",
            "test_image_FS_B_405.png\n",
            "test_image_FS_B_404.png\n",
            "test_image_FS_B_400.png\n",
            "test_image_FS_B_401.png\n",
            "test_image_FS_B_403.png\n",
            "test_image_FS_B_399.png\n",
            "test_image_FS_B_398.png\n",
            "test_image_FS_B_397.png\n",
            "test_image_FS_B_396.png\n",
            "test_image_FS_B_395.png\n",
            "test_image_FS_B_394.png\n",
            "test_image_FS_B_402.png\n",
            "test_image_FS_B_393.png\n",
            "test_image_FS_B_484.png\n",
            "test_image_FS_B_483.png\n",
            "test_image_FS_B_482.png\n",
            "test_image_FS_B_481.png\n",
            "test_image_FS_B_479.png\n",
            "test_image_FS_B_480.png\n",
            "test_image_FS_B_488.png\n",
            "test_image_FS_B_487.png\n",
            "test_image_FS_B_478.png\n",
            "test_image_FS_B_477.png\n",
            "test_image_FS_B_472.png\n",
            "test_image_FS_B_474.png\n",
            "test_image_FS_B_473.png\n",
            "test_image_FS_B_470.png\n",
            "test_image_FS_B_471.png\n",
            "test_image_FS_B_469.png\n",
            "test_image_FS_B_467.png\n",
            "test_image_FS_B_468.png\n",
            "test_image_FS_B_476.png\n",
            "test_image_FS_B_475.png\n",
            "test_image_FS_B_466.png\n",
            "test_image_FS_B_465.png\n",
            "test_image_FS_B_462.png\n",
            "test_image_FS_B_461.png\n",
            "test_image_FS_B_460.png\n",
            "test_image_FS_B_459.png\n",
            "test_image_FS_B_458.png\n",
            "test_image_FS_B_457.png\n",
            "test_image_FS_B_456.png\n",
            "test_image_FS_B_455.png\n",
            "test_image_FS_B_464.png\n",
            "test_image_FS_B_463.png\n",
            "test_image_FS_B_454.png\n",
            "test_image_FS_B_453.png\n",
            "test_image_FS_B_450.png\n",
            "test_image_FS_B_449.png\n",
            "test_image_FS_B_452.png\n",
            "test_image_FS_B_448.png\n",
            "test_image_FS_B_447.png\n",
            "test_image_FS_B_446.png\n",
            "test_image_FS_B_445.png\n",
            "test_image_FS_B_444.png\n",
            "test_image_FS_B_443.png\n",
            "test_image_FS_B_451.png\n",
            "test_image_FS_B_442.png\n",
            "test_image_FS_B_441.png\n",
            "test_image_FS_B_528.png\n",
            "test_image_FS_B_527.png\n",
            "test_image_FS_B_521.png\n",
            "test_image_FS_B_523.png\n",
            "test_image_FS_B_526.png\n",
            "test_image_FS_B_522.png\n",
            "test_image_FS_B_520.png\n",
            "test_image_FS_B_519.png\n",
            "test_image_FS_B_518.png\n",
            "test_image_FS_B_517.png\n",
            "test_image_FS_B_516.png\n",
            "test_image_FS_B_525.png\n",
            "test_image_FS_B_524.png\n",
            "test_image_FS_B_515.png\n",
            "test_image_FS_B_514.png\n",
            "test_image_FS_B_511.png\n",
            "test_image_FS_B_510.png\n",
            "test_image_FS_B_513.png\n",
            "test_image_FS_B_509.png\n",
            "test_image_FS_B_508.png\n",
            "test_image_FS_B_507.png\n",
            "test_image_FS_B_506.png\n",
            "test_image_FS_B_504.png\n",
            "test_image_FS_B_505.png\n",
            "test_image_FS_B_512.png\n",
            "test_image_FS_B_503.png\n",
            "test_image_FS_B_502.png\n",
            "test_image_FS_B_498.png\n",
            "test_image_FS_B_499.png\n",
            "test_image_FS_B_501.png\n",
            "test_image_FS_B_497.png\n",
            "test_image_FS_B_496.png\n",
            "test_image_FS_B_495.png\n",
            "test_image_FS_B_494.png\n",
            "test_image_FS_B_493.png\n",
            "test_image_FS_B_492.png\n",
            "test_image_FS_B_500.png\n",
            "test_image_FS_B_491.png\n",
            "test_image_FS_B_490.png\n",
            "test_image_FS_B_486.png\n",
            "test_image_FS_B_485.png\n",
            "test_image_FS_B_489.png\n",
            "test_image_FS_B_575.png\n",
            "test_image_FS_B_572.png\n",
            "test_image_FS_B_571.png\n",
            "test_image_FS_B_570.png\n",
            "test_image_FS_B_568.png\n",
            "test_image_FS_B_569.png\n",
            "test_image_FS_B_567.png\n",
            "test_image_FS_B_565.png\n",
            "test_image_FS_B_566.png\n",
            "test_image_FS_B_574.png\n",
            "test_image_FS_B_573.png\n",
            "test_image_FS_B_564.png\n",
            "test_image_FS_B_563.png\n",
            "test_image_FS_B_560.png\n",
            "test_image_FS_B_559.png\n",
            "test_image_FS_B_562.png\n",
            "test_image_FS_B_558.png\n",
            "test_image_FS_B_555.png\n",
            "test_image_FS_B_557.png\n",
            "test_image_FS_B_556.png\n",
            "test_image_FS_B_554.png\n",
            "test_image_FS_B_552.png\n",
            "test_image_FS_B_561.png\n",
            "test_image_FS_B_553.png\n",
            "test_image_FS_B_551.png\n",
            "test_image_FS_B_547.png\n",
            "test_image_FS_B_548.png\n",
            "test_image_FS_B_546.png\n",
            "test_image_FS_B_550.png\n",
            "test_image_FS_B_544.png\n",
            "test_image_FS_B_545.png\n",
            "test_image_FS_B_543.png\n",
            "test_image_FS_B_542.png\n",
            "test_image_FS_B_541.png\n",
            "test_image_FS_B_549.png\n",
            "test_image_FS_B_540.png\n",
            "test_image_FS_B_539.png\n",
            "test_image_FS_B_536.png\n",
            "test_image_FS_B_535.png\n",
            "test_image_FS_B_538.png\n",
            "test_image_FS_B_534.png\n",
            "test_image_FS_B_532.png\n",
            "test_image_FS_B_533.png\n",
            "test_image_FS_B_529.png\n",
            "test_image_FS_B_530.png\n",
            "test_image_FS_B_531.png\n",
            "test_image_FS_B_537.png\n",
            "test_image_FS_C_243.png\n",
            "test_image_FS_C_242.png\n",
            "test_image_FS_C_233.png\n",
            "test_image_FS_C_232.png\n",
            "test_image_FS_C_229.png\n",
            "test_image_FS_C_228.png\n",
            "test_image_FS_C_231.png\n",
            "test_image_FS_C_227.png\n",
            "test_image_FS_C_226.png\n",
            "test_image_FS_C_225.png\n",
            "test_image_FS_C_224.png\n",
            "test_image_FS_C_223.png\n",
            "test_image_FS_C_222.png\n",
            "test_image_FS_C_230.png\n",
            "test_image_FS_C_221.png\n",
            "test_image_FS_B_600.png\n",
            "test_image_FS_B_594.png\n",
            "test_image_FS_B_599.png\n",
            "test_image_FS_B_596.png\n",
            "test_image_FS_B_595.png\n",
            "test_image_FS_B_592.png\n",
            "test_image_FS_B_593.png\n",
            "test_image_FS_B_591.png\n",
            "test_image_FS_B_590.png\n",
            "test_image_FS_B_589.png\n",
            "test_image_FS_B_598.png\n",
            "test_image_FS_B_597.png\n",
            "test_image_FS_B_588.png\n",
            "test_image_FS_B_587.png\n",
            "test_image_FS_B_584.png\n",
            "test_image_FS_B_583.png\n",
            "test_image_FS_B_586.png\n",
            "test_image_FS_B_582.png\n",
            "test_image_FS_B_580.png\n",
            "test_image_FS_B_581.png\n",
            "test_image_FS_B_579.png\n",
            "test_image_FS_B_578.png\n",
            "test_image_FS_B_576.png\n",
            "test_image_FS_B_585.png\n",
            "test_image_FS_B_577.png\n",
            "test_image_FS_C_282.png\n",
            "test_image_FS_C_278.png\n",
            "test_image_FS_C_279.png\n",
            "test_image_FS_C_277.png\n",
            "test_image_FS_C_275.png\n",
            "test_image_FS_C_276.png\n",
            "test_image_FS_C_274.png\n",
            "test_image_FS_C_272.png\n",
            "test_image_FS_C_273.png\n",
            "test_image_FS_C_281.png\n",
            "test_image_FS_C_280.png\n",
            "test_image_FS_C_271.png\n",
            "test_image_FS_C_270.png\n",
            "test_image_FS_C_266.png\n",
            "test_image_FS_C_267.png\n",
            "test_image_FS_C_269.png\n",
            "test_image_FS_C_265.png\n",
            "test_image_FS_C_264.png\n",
            "test_image_FS_C_263.png\n",
            "test_image_FS_C_262.png\n",
            "test_image_FS_C_261.png\n",
            "test_image_FS_C_260.png\n",
            "test_image_FS_C_268.png\n",
            "test_image_FS_C_259.png\n",
            "test_image_FS_C_258.png\n",
            "test_image_FS_C_254.png\n",
            "test_image_FS_C_253.png\n",
            "test_image_FS_C_257.png\n",
            "test_image_FS_C_252.png\n",
            "test_image_FS_C_250.png\n",
            "test_image_FS_C_251.png\n",
            "test_image_FS_C_249.png\n",
            "test_image_FS_C_248.png\n",
            "test_image_FS_C_247.png\n",
            "test_image_FS_C_256.png\n",
            "test_image_FS_C_255.png\n",
            "test_image_FS_C_246.png\n",
            "test_image_FS_C_245.png\n",
            "test_image_FS_C_241.png\n",
            "test_image_FS_C_240.png\n",
            "test_image_FS_C_244.png\n",
            "test_image_FS_C_239.png\n",
            "test_image_FS_C_237.png\n",
            "test_image_FS_C_238.png\n",
            "test_image_FS_C_236.png\n",
            "test_image_FS_C_234.png\n",
            "test_image_FS_C_235.png\n",
            "test_image_FS_C_330.png\n",
            "test_image_FS_C_329.png\n",
            "test_image_FS_C_320.png\n",
            "test_image_FS_C_319.png\n",
            "test_image_FS_C_316.png\n",
            "test_image_FS_C_315.png\n",
            "test_image_FS_C_312.png\n",
            "test_image_FS_C_318.png\n",
            "test_image_FS_C_313.png\n",
            "test_image_FS_C_314.png\n",
            "test_image_FS_C_311.png\n",
            "test_image_FS_C_310.png\n",
            "test_image_FS_C_309.png\n",
            "test_image_FS_C_317.png\n",
            "test_image_FS_C_308.png\n",
            "test_image_FS_C_307.png\n",
            "test_image_FS_C_302.png\n",
            "test_image_FS_C_303.png\n",
            "test_image_FS_C_306.png\n",
            "test_image_FS_C_301.png\n",
            "test_image_FS_C_300.png\n",
            "test_image_FS_C_299.png\n",
            "test_image_FS_C_298.png\n",
            "test_image_FS_C_297.png\n",
            "test_image_FS_C_296.png\n",
            "test_image_FS_C_305.png\n",
            "test_image_FS_C_304.png\n",
            "test_image_FS_C_295.png\n",
            "test_image_FS_C_294.png\n",
            "test_image_FS_C_290.png\n",
            "test_image_FS_C_291.png\n",
            "test_image_FS_C_289.png\n",
            "test_image_FS_C_288.png\n",
            "test_image_FS_C_287.png\n",
            "test_image_FS_C_286.png\n",
            "test_image_FS_C_284.png\n",
            "test_image_FS_C_285.png\n",
            "test_image_FS_C_293.png\n",
            "test_image_FS_C_292.png\n",
            "test_image_FS_C_283.png\n",
            "test_image_FS_C_364.png\n",
            "test_image_FS_C_366.png\n",
            "test_image_FS_C_369.png\n",
            "test_image_FS_C_365.png\n",
            "test_image_FS_C_362.png\n",
            "test_image_FS_C_363.png\n",
            "test_image_FS_C_361.png\n",
            "test_image_FS_C_360.png\n",
            "test_image_FS_C_359.png\n",
            "test_image_FS_C_368.png\n",
            "test_image_FS_C_367.png\n",
            "test_image_FS_C_358.png\n",
            "test_image_FS_C_357.png\n",
            "test_image_FS_C_352.png\n",
            "test_image_FS_C_353.png\n",
            "test_image_FS_C_356.png\n",
            "test_image_FS_C_351.png\n",
            "test_image_FS_C_349.png\n",
            "test_image_FS_C_350.png\n",
            "test_image_FS_C_348.png\n",
            "test_image_FS_C_347.png\n",
            "test_image_FS_C_346.png\n",
            "test_image_FS_C_355.png\n",
            "test_image_FS_C_354.png\n",
            "test_image_FS_C_345.png\n",
            "test_image_FS_C_344.png\n",
            "test_image_FS_C_340.png\n",
            "test_image_FS_C_341.png\n",
            "test_image_FS_C_343.png\n",
            "test_image_FS_C_339.png\n",
            "test_image_FS_C_338.png\n",
            "test_image_FS_C_337.png\n",
            "test_image_FS_C_336.png\n",
            "test_image_FS_C_334.png\n",
            "test_image_FS_C_335.png\n",
            "test_image_FS_C_342.png\n",
            "test_image_FS_C_333.png\n",
            "test_image_FS_C_332.png\n",
            "test_image_FS_C_328.png\n",
            "test_image_FS_C_331.png\n",
            "test_image_FS_C_327.png\n",
            "test_image_FS_C_325.png\n",
            "test_image_FS_C_326.png\n",
            "test_image_FS_C_324.png\n",
            "test_image_FS_C_323.png\n",
            "test_image_FS_C_321.png\n",
            "test_image_FS_C_322.png\n",
            "test_image_FS_C_417.png\n",
            "test_image_FS_C_408.png\n",
            "test_image_FS_C_407.png\n",
            "test_image_FS_C_404.png\n",
            "test_image_FS_C_403.png\n",
            "test_image_FS_C_402.png\n",
            "test_image_FS_C_401.png\n",
            "test_image_FS_C_400.png\n",
            "test_image_FS_C_399.png\n",
            "test_image_FS_C_398.png\n",
            "test_image_FS_C_397.png\n",
            "test_image_FS_C_406.png\n",
            "test_image_FS_C_405.png\n",
            "test_image_FS_C_396.png\n",
            "test_image_FS_C_395.png\n",
            "test_image_FS_C_390.png\n",
            "test_image_FS_C_391.png\n",
            "test_image_FS_C_394.png\n",
            "test_image_FS_C_389.png\n",
            "test_image_FS_C_388.png\n",
            "test_image_FS_C_387.png\n",
            "test_image_FS_C_386.png\n",
            "test_image_FS_C_384.png\n",
            "test_image_FS_C_385.png\n",
            "test_image_FS_C_393.png\n",
            "test_image_FS_C_392.png\n",
            "test_image_FS_C_383.png\n",
            "test_image_FS_C_382.png\n",
            "test_image_FS_C_378.png\n",
            "test_image_FS_C_379.png\n",
            "test_image_FS_C_377.png\n",
            "test_image_FS_C_375.png\n",
            "test_image_FS_C_376.png\n",
            "test_image_FS_C_374.png\n",
            "test_image_FS_C_372.png\n",
            "test_image_FS_C_373.png\n",
            "test_image_FS_C_381.png\n",
            "test_image_FS_C_380.png\n",
            "test_image_FS_C_371.png\n",
            "test_image_FS_C_370.png\n",
            "test_image_FS_C_455.png\n",
            "test_image_FS_C_452.png\n",
            "test_image_FS_C_451.png\n",
            "test_image_FS_C_454.png\n",
            "test_image_FS_C_450.png\n",
            "test_image_FS_C_448.png\n",
            "test_image_FS_C_449.png\n",
            "test_image_FS_C_447.png\n",
            "test_image_FS_C_446.png\n",
            "test_image_FS_C_445.png\n",
            "test_image_FS_C_453.png\n",
            "test_image_FS_C_444.png\n",
            "test_image_FS_C_443.png\n",
            "test_image_FS_C_439.png\n",
            "test_image_FS_C_440.png\n",
            "test_image_FS_C_438.png\n",
            "test_image_FS_C_437.png\n",
            "test_image_FS_C_435.png\n",
            "test_image_FS_C_436.png\n",
            "test_image_FS_C_433.png\n",
            "test_image_FS_C_434.png\n",
            "test_image_FS_C_442.png\n",
            "test_image_FS_C_441.png\n",
            "test_image_FS_C_432.png\n",
            "test_image_FS_C_431.png\n",
            "test_image_FS_C_428.png\n",
            "test_image_FS_C_430.png\n",
            "test_image_FS_C_427.png\n",
            "test_image_FS_C_426.png\n",
            "test_image_FS_C_425.png\n",
            "test_image_FS_C_424.png\n",
            "test_image_FS_C_423.png\n",
            "test_image_FS_C_421.png\n",
            "test_image_FS_C_422.png\n",
            "test_image_FS_C_429.png\n",
            "test_image_FS_C_420.png\n",
            "test_image_FS_C_419.png\n",
            "test_image_FS_C_415.png\n",
            "test_image_FS_C_416.png\n",
            "test_image_FS_C_418.png\n",
            "test_image_FS_C_414.png\n",
            "test_image_FS_C_413.png\n",
            "test_image_FS_C_412.png\n",
            "test_image_FS_C_411.png\n",
            "test_image_FS_C_409.png\n",
            "test_image_FS_C_410.png\n",
            "test_image_FS_C_494.png\n",
            "test_image_FS_C_493.png\n",
            "test_image_FS_C_489.png\n",
            "test_image_FS_C_485.png\n",
            "test_image_FS_C_492.png\n",
            "test_image_FS_C_487.png\n",
            "test_image_FS_C_486.png\n",
            "test_image_FS_C_488.png\n",
            "test_image_FS_C_484.png\n",
            "test_image_FS_C_482.png\n",
            "test_image_FS_C_483.png\n",
            "test_image_FS_C_491.png\n",
            "test_image_FS_C_490.png\n",
            "test_image_FS_C_481.png\n",
            "test_image_FS_C_480.png\n",
            "test_image_FS_C_474.png\n",
            "test_image_FS_C_477.png\n",
            "test_image_FS_C_473.png\n",
            "test_image_FS_C_476.png\n",
            "test_image_FS_C_475.png\n",
            "test_image_FS_C_472.png\n",
            "test_image_FS_C_471.png\n",
            "test_image_FS_C_470.png\n",
            "test_image_FS_C_479.png\n",
            "test_image_FS_C_478.png\n",
            "test_image_FS_C_469.png\n",
            "test_image_FS_C_468.png\n",
            "test_image_FS_C_464.png\n",
            "test_image_FS_C_463.png\n",
            "test_image_FS_C_467.png\n",
            "test_image_FS_C_462.png\n",
            "test_image_FS_C_460.png\n",
            "test_image_FS_C_461.png\n",
            "test_image_FS_C_457.png\n",
            "test_image_FS_C_459.png\n",
            "test_image_FS_C_458.png\n",
            "test_image_FS_C_466.png\n",
            "test_image_FS_C_465.png\n",
            "test_image_FS_C_456.png\n",
            "test_image_FS_C_531.png\n",
            "test_image_FS_C_527.png\n",
            "test_image_FS_C_526.png\n",
            "test_image_FS_C_530.png\n",
            "test_image_FS_C_525.png\n",
            "test_image_FS_C_523.png\n",
            "test_image_FS_C_524.png\n",
            "test_image_FS_C_521.png\n",
            "test_image_FS_C_519.png\n",
            "test_image_FS_C_522.png\n",
            "test_image_FS_C_529.png\n",
            "test_image_FS_C_528.png\n",
            "test_image_FS_C_520.png\n",
            "test_image_FS_C_518.png\n",
            "test_image_FS_C_513.png\n",
            "test_image_FS_C_514.png\n",
            "test_image_FS_C_517.png\n",
            "test_image_FS_C_512.png\n",
            "test_image_FS_C_510.png\n",
            "test_image_FS_C_511.png\n",
            "test_image_FS_C_509.png\n",
            "test_image_FS_C_508.png\n",
            "test_image_FS_C_507.png\n",
            "test_image_FS_C_516.png\n",
            "test_image_FS_C_515.png\n",
            "test_image_FS_C_506.png\n",
            "test_image_FS_C_505.png\n",
            "test_image_FS_C_501.png\n",
            "test_image_FS_C_502.png\n",
            "test_image_FS_C_500.png\n",
            "test_image_FS_C_504.png\n",
            "test_image_FS_C_498.png\n",
            "test_image_FS_C_499.png\n",
            "test_image_FS_C_497.png\n",
            "test_image_FS_C_496.png\n",
            "test_image_FS_C_495.png\n",
            "test_image_FS_C_503.png\n",
            "test_image_FS_C_568.png\n",
            "test_image_FS_C_565.png\n",
            "test_image_FS_C_564.png\n",
            "test_image_FS_C_563.png\n",
            "test_image_FS_C_562.png\n",
            "test_image_FS_C_560.png\n",
            "test_image_FS_C_561.png\n",
            "test_image_FS_C_558.png\n",
            "test_image_FS_C_559.png\n",
            "test_image_FS_C_567.png\n",
            "test_image_FS_C_566.png\n",
            "test_image_FS_C_557.png\n",
            "test_image_FS_C_556.png\n",
            "test_image_FS_C_550.png\n",
            "test_image_FS_C_553.png\n",
            "test_image_FS_C_552.png\n",
            "test_image_FS_C_555.png\n",
            "test_image_FS_C_551.png\n",
            "test_image_FS_C_549.png\n",
            "test_image_FS_C_548.png\n",
            "test_image_FS_C_546.png\n",
            "test_image_FS_C_547.png\n",
            "test_image_FS_C_554.png\n",
            "test_image_FS_C_545.png\n",
            "test_image_FS_C_544.png\n",
            "test_image_FS_C_538.png\n",
            "test_image_FS_C_540.png\n",
            "test_image_FS_C_543.png\n",
            "test_image_FS_C_539.png\n",
            "test_image_FS_C_537.png\n",
            "test_image_FS_C_536.png\n",
            "test_image_FS_C_535.png\n",
            "test_image_FS_C_534.png\n",
            "test_image_FS_C_533.png\n",
            "test_image_FS_C_542.png\n",
            "test_image_FS_C_541.png\n",
            "test_image_FS_C_532.png\n",
            "test_image_FS_D_234.png\n",
            "test_image_FS_D_225.png\n",
            "test_image_FS_D_224.png\n",
            "test_image_FS_D_221.png\n",
            "test_image_FS_C_598.png\n",
            "test_image_FS_D_223.png\n",
            "test_image_FS_C_600.png\n",
            "test_image_FS_C_596.png\n",
            "test_image_FS_C_599.png\n",
            "test_image_FS_C_597.png\n",
            "test_image_FS_C_595.png\n",
            "test_image_FS_C_594.png\n",
            "test_image_FS_D_222.png\n",
            "test_image_FS_C_593.png\n",
            "test_image_FS_C_592.png\n",
            "test_image_FS_C_589.png\n",
            "test_image_FS_C_588.png\n",
            "test_image_FS_C_591.png\n",
            "test_image_FS_C_587.png\n",
            "test_image_FS_C_585.png\n",
            "test_image_FS_C_586.png\n",
            "test_image_FS_C_583.png\n",
            "test_image_FS_C_584.png\n",
            "test_image_FS_C_582.png\n",
            "test_image_FS_C_590.png\n",
            "test_image_FS_C_581.png\n",
            "test_image_FS_C_580.png\n",
            "test_image_FS_C_577.png\n",
            "test_image_FS_C_575.png\n",
            "test_image_FS_C_579.png\n",
            "test_image_FS_C_576.png\n",
            "test_image_FS_C_574.png\n",
            "test_image_FS_C_572.png\n",
            "test_image_FS_C_573.png\n",
            "test_image_FS_C_571.png\n",
            "test_image_FS_C_569.png\n",
            "test_image_FS_C_578.png\n",
            "test_image_FS_C_570.png\n",
            "test_image_FS_D_261.png\n",
            "test_image_FS_D_257.png\n",
            "test_image_FS_D_258.png\n",
            "test_image_FS_D_256.png\n",
            "test_image_FS_D_254.png\n",
            "test_image_FS_D_255.png\n",
            "test_image_FS_D_253.png\n",
            "test_image_FS_D_251.png\n",
            "test_image_FS_D_252.png\n",
            "test_image_FS_D_260.png\n",
            "test_image_FS_D_259.png\n",
            "test_image_FS_D_250.png\n",
            "test_image_FS_D_249.png\n",
            "test_image_FS_D_244.png\n",
            "test_image_FS_D_245.png\n",
            "test_image_FS_D_248.png\n",
            "test_image_FS_D_243.png\n",
            "test_image_FS_D_241.png\n",
            "test_image_FS_D_242.png\n",
            "test_image_FS_D_240.png\n",
            "test_image_FS_D_238.png\n",
            "test_image_FS_D_239.png\n",
            "test_image_FS_D_247.png\n",
            "test_image_FS_D_246.png\n",
            "test_image_FS_D_237.png\n",
            "test_image_FS_D_236.png\n",
            "test_image_FS_D_232.png\n",
            "test_image_FS_D_233.png\n",
            "test_image_FS_D_235.png\n",
            "test_image_FS_D_231.png\n",
            "test_image_FS_D_229.png\n",
            "test_image_FS_D_230.png\n",
            "test_image_FS_D_228.png\n",
            "test_image_FS_D_227.png\n",
            "test_image_FS_D_226.png\n",
            "test_image_FS_D_293.png\n",
            "test_image_FS_D_291.png\n",
            "test_image_FS_D_290.png\n",
            "test_image_FS_D_289.png\n",
            "test_image_FS_D_288.png\n",
            "test_image_FS_D_287.png\n",
            "test_image_FS_D_296.png\n",
            "test_image_FS_D_295.png\n",
            "test_image_FS_D_286.png\n",
            "test_image_FS_D_285.png\n",
            "test_image_FS_D_282.png\n",
            "test_image_FS_D_281.png\n",
            "test_image_FS_D_284.png\n",
            "test_image_FS_D_280.png\n",
            "test_image_FS_D_279.png\n",
            "test_image_FS_D_278.png\n",
            "test_image_FS_D_277.png\n",
            "test_image_FS_D_276.png\n",
            "test_image_FS_D_275.png\n",
            "test_image_FS_D_283.png\n",
            "test_image_FS_D_274.png\n",
            "test_image_FS_D_273.png\n",
            "test_image_FS_D_269.png\n",
            "test_image_FS_D_270.png\n",
            "test_image_FS_D_268.png\n",
            "test_image_FS_D_267.png\n",
            "test_image_FS_D_266.png\n",
            "test_image_FS_D_265.png\n",
            "test_image_FS_D_264.png\n",
            "test_image_FS_D_263.png\n",
            "test_image_FS_D_272.png\n",
            "test_image_FS_D_271.png\n",
            "test_image_FS_D_262.png\n",
            "test_image_FS_D_297.png\n"
          ],
          "name": "stdout"
        }
      ]
    },
    {
      "cell_type": "markdown",
      "metadata": {
        "id": "nOLYmnWWd8q4"
      },
      "source": [
        "get_image_files method from Fast AI API returns list of files in that are images. [see docs](https://docs.fast.ai/vision.data.html#get_image_files)"
      ]
    },
    {
      "cell_type": "code",
      "metadata": {
        "colab": {
          "base_uri": "https://localhost:8080/"
        },
        "id": "O67fiDegeaLE",
        "outputId": "ddb8453f-3962-4173-ced1-ca1798fd81d8"
      },
      "source": [
        "fnames = get_image_files(imagePath)\n",
        "fnames"
      ],
      "execution_count": 102,
      "outputs": [
        {
          "output_type": "execute_result",
          "data": {
            "text/plain": [
              "(#1054) [Path('/gdrive/MyDrive/Gesture/images/test_image_FS_A_413.png'),Path('/gdrive/MyDrive/Gesture/images/test_image_FS_A_411.png'),Path('/gdrive/MyDrive/Gesture/images/test_image_FS_A_409.png'),Path('/gdrive/MyDrive/Gesture/images/test_image_FS_A_408.png'),Path('/gdrive/MyDrive/Gesture/images/test_image_FS_A_410.png'),Path('/gdrive/MyDrive/Gesture/images/test_image_FS_A_406.png'),Path('/gdrive/MyDrive/Gesture/images/test_image_FS_A_407.png'),Path('/gdrive/MyDrive/Gesture/images/test_image_FS_A_405.png'),Path('/gdrive/MyDrive/Gesture/images/test_image_FS_A_404.png'),Path('/gdrive/MyDrive/Gesture/images/test_image_FS_A_402.png')...]"
            ]
          },
          "metadata": {
            "tags": []
          },
          "execution_count": 102
        }
      ]
    },
    {
      "cell_type": "markdown",
      "metadata": {
        "id": "F-wA7W6UeiEX"
      },
      "source": [
        "In this particular dataset, labels are stored in the filenames themselves like test_image_FS_A_413.png where FS is the acquisition batch, A is the label, 413 is the sample number for class \"A\" in \"FS\" acquisition batch."
      ]
    },
    {
      "cell_type": "code",
      "metadata": {
        "id": "CdS2ywC6SVkS"
      },
      "source": [
        "dblock = DataBlock(blocks=(ImageBlock, CategoryBlock),\n",
        "                   get_items=get_image_files,\n",
        "                   get_y=Pipeline([attrgetter(\"name\"),RegexLabeller(pat = r'^.*_([A-Z])_\\d+.png$')]),\n",
        "                   splitter=RandomSplitter(valid_pct=0.2, seed=42),\n",
        "                   item_tfms = Resize(224))"
      ],
      "execution_count": 103,
      "outputs": []
    },
    {
      "cell_type": "code",
      "metadata": {
        "id": "bI7Zu21pZ8dh"
      },
      "source": [
        "dsets = dblock.datasets(imagePath)\n"
      ],
      "execution_count": 104,
      "outputs": []
    },
    {
      "cell_type": "code",
      "metadata": {
        "colab": {
          "base_uri": "https://localhost:8080/"
        },
        "id": "G53v3B6EkGE3",
        "outputId": "c34ed796-3e35-4c5d-a611-a27c95f584d5"
      },
      "source": [
        "dsets.train[0]\n"
      ],
      "execution_count": 105,
      "outputs": [
        {
          "output_type": "execute_result",
          "data": {
            "text/plain": [
              "(PILImage mode=RGB size=375x277, TensorCategory(1))"
            ]
          },
          "metadata": {
            "tags": []
          },
          "execution_count": 105
        }
      ]
    },
    {
      "cell_type": "code",
      "metadata": {
        "id": "m04sNlpllgV6"
      },
      "source": [
        "dl= dblock.dataloaders(imagePath,bs=32)"
      ],
      "execution_count": 106,
      "outputs": []
    },
    {
      "cell_type": "code",
      "metadata": {
        "colab": {
          "base_uri": "https://localhost:8080/",
          "height": 342
        },
        "id": "TT99PPE7knTx",
        "outputId": "157dcdd9-2156-4aea-a1f6-e780cecc535f"
      },
      "source": [
        "dl.valid.show_batch(max_n=12, nrows=2)"
      ],
      "execution_count": 107,
      "outputs": [
        {
          "output_type": "display_data",
          "data": {
            "image/png": "[encoded data removed]",
            "text/plain": [
              "<Figure size 1296x432 with 12 Axes>"
            ]
          },
          "metadata": {
            "tags": [],
            "needs_background": "light"
          }
        }
      ]
    },
    {
      "cell_type": "markdown",
      "metadata": {
        "id": "RKlqu31NC30s"
      },
      "source": [
        "Convoluted neural network (CNN) is the de facto standard neural network type for image classification. We will use resnet34 (i.e. a well known 34 layers deep CNN).\n",
        "\n",
        "We are using the .fine_tune method instead of .fit because we are leveraging on the pretrained general purpose resnet model to perform transfer learning. In the fine_tune we specify the number of epochs to be 4."
      ]
    },
    {
      "cell_type": "code",
      "metadata": {
        "colab": {
          "base_uri": "https://localhost:8080/",
          "height": 236
        },
        "id": "dVc9OmXxChJr",
        "outputId": "764ac4f6-4dcb-4a8c-f0a8-ad1d307954c9"
      },
      "source": [
        "learn = cnn_learner(dl, resnet34, metrics=error_rate)\n",
        "learn.fine_tune(4)"
      ],
      "execution_count": 108,
      "outputs": [
        {
          "output_type": "display_data",
          "data": {
            "text/html": [
              "<table border=\"1\" class=\"dataframe\">\n",
              "  <thead>\n",
              "    <tr style=\"text-align: left;\">\n",
              "      <th>epoch</th>\n",
              "      <th>train_loss</th>\n",
              "      <th>valid_loss</th>\n",
              "      <th>error_rate</th>\n",
              "      <th>time</th>\n",
              "    </tr>\n",
              "  </thead>\n",
              "  <tbody>\n",
              "    <tr>\n",
              "      <td>0</td>\n",
              "      <td>0.632521</td>\n",
              "      <td>0.001623</td>\n",
              "      <td>0.000000</td>\n",
              "      <td>05:47</td>\n",
              "    </tr>\n",
              "  </tbody>\n",
              "</table>"
            ],
            "text/plain": [
              "<IPython.core.display.HTML object>"
            ]
          },
          "metadata": {
            "tags": []
          }
        },
        {
          "output_type": "display_data",
          "data": {
            "text/html": [
              "<table border=\"1\" class=\"dataframe\">\n",
              "  <thead>\n",
              "    <tr style=\"text-align: left;\">\n",
              "      <th>epoch</th>\n",
              "      <th>train_loss</th>\n",
              "      <th>valid_loss</th>\n",
              "      <th>error_rate</th>\n",
              "      <th>time</th>\n",
              "    </tr>\n",
              "  </thead>\n",
              "  <tbody>\n",
              "    <tr>\n",
              "      <td>0</td>\n",
              "      <td>0.009042</td>\n",
              "      <td>0.000155</td>\n",
              "      <td>0.000000</td>\n",
              "      <td>07:37</td>\n",
              "    </tr>\n",
              "    <tr>\n",
              "      <td>1</td>\n",
              "      <td>0.006364</td>\n",
              "      <td>0.000003</td>\n",
              "      <td>0.000000</td>\n",
              "      <td>07:41</td>\n",
              "    </tr>\n",
              "    <tr>\n",
              "      <td>2</td>\n",
              "      <td>0.005731</td>\n",
              "      <td>0.000004</td>\n",
              "      <td>0.000000</td>\n",
              "      <td>07:47</td>\n",
              "    </tr>\n",
              "    <tr>\n",
              "      <td>3</td>\n",
              "      <td>0.004518</td>\n",
              "      <td>0.000004</td>\n",
              "      <td>0.000000</td>\n",
              "      <td>07:40</td>\n",
              "    </tr>\n",
              "  </tbody>\n",
              "</table>"
            ],
            "text/plain": [
              "<IPython.core.display.HTML object>"
            ]
          },
          "metadata": {
            "tags": []
          }
        }
      ]
    },
    {
      "cell_type": "markdown",
      "metadata": {
        "id": "N0j5sNW4D6bJ"
      },
      "source": [
        "Looking at the Confusion Matrix for better visualization of the results."
      ]
    },
    {
      "cell_type": "code",
      "metadata": {
        "colab": {
          "base_uri": "https://localhost:8080/",
          "height": 311
        },
        "id": "004nqVddDpWG",
        "outputId": "39acc037-c893-4726-f5c3-f193f16dc2fe"
      },
      "source": [
        "interpretation = ClassificationInterpretation.from_learner(learn)\n",
        "interpretation.plot_confusion_matrix()"
      ],
      "execution_count": 109,
      "outputs": [
        {
          "output_type": "display_data",
          "data": {
            "text/html": [
              ""
            ],
            "text/plain": [
              "<IPython.core.display.HTML object>"
            ]
          },
          "metadata": {
            "tags": []
          }
        },
        {
          "output_type": "display_data",
          "data": {
            "image/png": "[encoded data removed]",
            "text/plain": [
              "<Figure size 432x288 with 1 Axes>"
            ]
          },
          "metadata": {
            "tags": [],
            "needs_background": "light"
          }
        }
      ]
    },
    {
      "cell_type": "markdown",
      "metadata": {
        "id": "c8_Si4phD8Yj"
      },
      "source": [
        "fast.ai also provides a easy method that allows us to find out which are the images where there was the highest loss. \n",
        "\n",
        "The loss is a number that is higher if the model is incorrect (especially if it is also confident of its incorrect answer), or if it is correct, but not confident of its correct answer."
      ]
    },
    {
      "cell_type": "code",
      "metadata": {
        "colab": {
          "base_uri": "https://localhost:8080/",
          "height": 206
        },
        "id": "vqk0h1F9EMoE",
        "outputId": "24d4ebb2-2a0c-4dac-80f6-17df6a233ccd"
      },
      "source": [
        "interpretation.plot_top_losses(5, nrows=1)"
      ],
      "execution_count": 110,
      "outputs": [
        {
          "output_type": "display_data",
          "data": {
            "image/png": "[encoded data removed]",
            "text/plain": [
              "<Figure size 1080x216 with 5 Axes>"
            ]
          },
          "metadata": {
            "tags": [],
            "needs_background": "light"
          }
        }
      ]
    },
    {
      "cell_type": "markdown",
      "metadata": {
        "id": "A_SByonsVjS6"
      },
      "source": [
        "export the model"
      ]
    },
    {
      "cell_type": "code",
      "metadata": {
        "colab": {
          "base_uri": "https://localhost:8080/"
        },
        "id": "qk0NFRgET2Fc",
        "outputId": "28c8ef2a-675d-4e22-f323-9826d20caf6e"
      },
      "source": [
        "learn.export()\n",
        "path = Path()\n",
        "path.ls(file_exts='.pkl')"
      ],
      "execution_count": 111,
      "outputs": [
        {
          "output_type": "execute_result",
          "data": {
            "text/plain": [
              "(#1) [Path('export.pkl')]"
            ]
          },
          "metadata": {
            "tags": []
          },
          "execution_count": 111
        }
      ]
    },
    {
      "cell_type": "markdown",
      "metadata": {
        "id": "-2Snh-0tfEHk"
      },
      "source": [
        "Use model for inference"
      ]
    },
    {
      "cell_type": "code",
      "metadata": {
        "id": "JEyfVXegT6x3"
      },
      "source": [
        "learn_inf = load_learner(path/'export_20210513.pkl')"
      ],
      "execution_count": 113,
      "outputs": []
    },
    {
      "cell_type": "code",
      "metadata": {
        "colab": {
          "base_uri": "https://localhost:8080/",
          "height": 34
        },
        "id": "oW380MnwVIzk",
        "outputId": "6503d386-abe8-4232-abc3-f79d9c87a33b"
      },
      "source": [
        "learn_inf.predict('/gdrive/MyDrive/Gesture/test_images/test_image_A_001.png')"
      ],
      "execution_count": 117,
      "outputs": [
        {
          "output_type": "display_data",
          "data": {
            "text/html": [
              ""
            ],
            "text/plain": [
              "<IPython.core.display.HTML object>"
            ]
          },
          "metadata": {
            "tags": []
          }
        },
        {
          "output_type": "execute_result",
          "data": {
            "text/plain": [
              "('A', tensor(0), tensor([1.0000e+00, 2.5746e-10, 5.0018e-08, 1.3708e-07]))"
            ]
          },
          "metadata": {
            "tags": []
          },
          "execution_count": 117
        }
      ]
    },
    {
      "cell_type": "code",
      "metadata": {
        "colab": {
          "base_uri": "https://localhost:8080/"
        },
        "id": "z5pL0tOFg5as",
        "outputId": "b724a4ca-b821-4fdc-c706-e6c87b13520e"
      },
      "source": [
        "learn_inf.dls.vocab"
      ],
      "execution_count": 118,
      "outputs": [
        {
          "output_type": "execute_result",
          "data": {
            "text/plain": [
              "['A', 'B', 'C', 'D']"
            ]
          },
          "metadata": {
            "tags": []
          },
          "execution_count": 118
        }
      ]
    },
    {
      "cell_type": "markdown",
      "metadata": {
        "id": "RR6dhOyuRT7e"
      },
      "source": [
        "# Nuova sezione"
      ]
    },
    {
      "cell_type": "code",
      "metadata": {
        "id": "LW8wUFmCVgNl"
      },
      "source": [
        ""
      ],
      "execution_count": null,
      "outputs": []
    }
  ]
}